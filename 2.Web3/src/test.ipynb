{
 "cells": [
  {
   "cell_type": "code",
   "execution_count": 2,
   "metadata": {},
   "outputs": [
    {
     "name": "stdout",
     "output_type": "stream",
     "text": [
      "Successful Connection: True \n",
      "The latest blocknumber is: 29440756\n"
     ]
    }
   ],
   "source": [
    "from receipt_log_handler import EthReceiptLogHandler\n",
    "from web3 import HTTPProvider\n",
    "from web3 import Web3\n",
    "from web3.middleware import geth_poa_middleware\n",
    "import time\n",
    "import json\n",
    "import operator\n",
    "\n",
    "bsc_testnet_rpc_endpoint = 'https://data-seed-prebsc-1-s1.binance.org:8545/'\n",
    "web3 = Web3(Web3.HTTPProvider(bsc_testnet_rpc_endpoint))\n",
    "\n",
    "#check connect successfull\n",
    "isConnected = web3.isConnected()\n",
    "print(f\"Successful Connection: {isConnected} \")\n",
    "#check latest blocknumber\n",
    "blocknumber = web3.eth.blockNumber\n",
    "print(f\"The latest blocknumber is: {blocknumber}\")\n",
    "event_block_number = 29437169\n",
    "\n",
    "token_addr = '0xE4dE8A4b7836B71D19b88b26196237b92E01b49D' \n",
    "with open('./NodeToken.json', 'r') as f:\n",
    "    abi = json.load(f)\n",
    "contract = web3.eth.contract(address=token_addr, abi=abi)\n",
    "\n",
    "transfer_event = contract.events.Transfer.createFilter(\n",
    "        fromBlock = event_block_number -1,\n",
    "        toBlock = event_block_number\n",
    "    ).get_all_entries()\n",
    "\n",
    "transfer = list()\n",
    "for event in transfer_event:\n",
    "    transfer.append(json.loads(Web3.toJSON(event)))\n",
    "result = dict()\n",
    "result['transferEvents'] = transfer\n",
    "json_obj = json.dumps(result, indent = 2)\n",
    "with open('./Result/catch.json', 'w+') as f:\n",
    "    f.write(json_obj)"
   ]
  }
 ],
 "metadata": {
  "kernelspec": {
   "display_name": "venv",
   "language": "python",
   "name": "venv"
  },
  "language_info": {
   "codemirror_mode": {
    "name": "ipython",
    "version": 3
   },
   "file_extension": ".py",
   "mimetype": "text/x-python",
   "name": "python",
   "nbconvert_exporter": "python",
   "pygments_lexer": "ipython3",
   "version": "3.10.6"
  },
  "orig_nbformat": 4
 },
 "nbformat": 4,
 "nbformat_minor": 2
}
