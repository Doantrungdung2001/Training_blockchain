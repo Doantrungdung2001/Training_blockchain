{
 "cells": [
  {
   "cell_type": "markdown",
   "metadata": {},
   "source": [
    "# Web3 Python căn bản\n",
    "\n",
    "## Nội dung\n",
    "1. Những kiến thức cần tìm hiểu\n",
    "2. Kết nối Binance Smart Chain public node\n",
    "3. Thu thập dữ liệu smart contract\n",
    "4. Thực hành thu thập dữ liệu của Valas <br>\n",
    "    4.1. Lấy data từ functions của contract <br>\n",
    "    4.2. Lấy data từ events của contract <br>\n",
    "    4.3. Thu thập nhiều loại dữ liệu event một lúc\n",
    "\n",
    "## 1. Những kiến thức cần tìm hiểu trước khi thu thập dữ liệu trên blockchain\n",
    "\n",
    "- Ethereum Virtual Machine là gì? [link](https://ethereum.org/en/developers/docs/evm/)\n",
    "- Application Binary Interface là gì? [link](https://www.quicknode.com/guides/solidity/what-is-an-abi) và [link](https://docs.soliditylang.org/en/develop/abi-spec.html#abi-json)\n",
    "- Light, full and archive ethereum node là gì? [link](https://www.quicknode.com/guides/infrastructure/ethereum-full-node-vs-archive-node) và [link](https://link.springer.com/chapter/10.1007/978-1-4842-3492-1_2)\n",
    "- Các nguồn tham khảo\n",
    "    * [Ethereum docs](https://ethereum.org/en/developers/docs/)\n",
    "    * [Web3 python docs](https://web3py.readthedocs.io/en/stable/)\n",
    "    * [Ethereum JSON-RPC - Postman](https://documenter.getpostman.com/view/4117254/ethereum-json-rpc/RVu7CT5J)\n"
   ]
  },
  {
   "cell_type": "markdown",
   "metadata": {},
   "source": [
    "## 2. Kết nối binance smart chain public node\n",
    "- Đầu tiên, dữ liệu được lưu trên các blockchain nodes. Ta cần kết nối với các node này để lấy dữ liệu, sử dụng một provide URL\n",
    "    - Tìm kiếm \"rpc node\" của các mạng blockchain (eg. ethereum rpc, bsc rpc, ftm rpc, etc.) [link](https://rpc.info/)\n",
    "    - Tại chuỗi thực hành này, mình sử dụng provider url của binance smart chain ([bsc rpc](https://docs.bscscan.com/misc-tools-and-utilities/public-rpc-nodes))\n",
    "- Sau đó, ta sử dụng provider URL vừa lấy được để kết nối với một node của BSC chain  \n",
    "    - Kiểm tra kết nối với node của mainnet\n",
    "    - Lấy dữ liệu của block mới nhất"
   ]
  },
  {
   "cell_type": "code",
   "execution_count": 1,
   "metadata": {},
   "outputs": [
    {
     "name": "stdout",
     "output_type": "stream",
     "text": [
      "Successful Connection: True \n",
      "The latest blocknumber is: 27740529\n"
     ]
    }
   ],
   "source": [
    "from web3 import HTTPProvider\n",
    "from web3 import Web3\n",
    "from web3.middleware import geth_poa_middleware\n",
    "import time\n",
    "import json\n",
    "\n",
    "provider_url = \"https://bsc-dataseed4.binance.org/\" # rpc link\n",
    "web3 = Web3(HTTPProvider(provider_url))\n",
    "web3.middleware_onion.inject(geth_poa_middleware, layer=0)\n",
    "\n",
    "#check connect successfull\n",
    "isConnected = web3.isConnected()\n",
    "print(f\"Successful Connection: {isConnected} \")\n",
    "#check latest blocknumber\n",
    "blocknumber = web3.eth.blockNumber\n",
    "print(f\"The latest blocknumber is: {blocknumber}\")"
   ]
  },
  {
   "cell_type": "code",
   "execution_count": 3,
   "metadata": {},
   "outputs": [
    {
     "data": {
      "text/plain": [
       "AttributeDict({'difficulty': 2,\n",
       " 'proofOfAuthorityData': HexBytes('0xd883010115846765746888676f312e32302e31856c696e7578000000f98d10721364cec6aa33b33935c491bf8c444089b75efe891f4405d9615e4980907ddf411334aabcb6e180f5f63c2dc68bd12c434c50bf7820a71ce022c915f8f463326401'),\n",
       " 'gasLimit': 138906269,\n",
       " 'gasUsed': 49868286,\n",
       " 'hash': HexBytes('0x474331785f4a3ae0c3928ac7cadd554a68ddfda9189d0d9432b173ebaeceb14a'),\n",
       " 'logsBloom': HexBytes('0xff7ddafdde9f7fdfeb5cffcddfb7f977fff773cb7bdee7fb7fff276ffefbfff6fb62bdfc7f8ffd5f477ffcf77fffefae1dfbeddaf73dfec3ffec13efffbefd0ff7fedf77f1f20f7f377adc3dfebbcb6efffdfeef3fffdf4bf637b7f7f5edd8fcbf7dfbef77fb76edd7fffefb7f19ccfdefebff7fffebfeba3f75ffff7ffd0ffb956fbfd66fddb9fd1fee77f5bf73ba6ffe7c77fffde9d6db6ffdf3ff7cf773f93f9efadf75fffffbd99d7feff77fc7dfd67f758fbfa57dd9fb77bfbf1f931feff5c8ffc675d3fb9fdfedfd9f37b6f6f1ffa3bbfffdfddd7fb7eb7ffa6efafaf6ddb1d77bb9cdf62bfdbfdbcadfff67ffea16b7ebc7d0cf7fbeffefcdbdf4bdf3'),\n",
       " 'miner': '0xa6f79B60359f141df90A0C745125B131cAAfFD12',\n",
       " 'mixHash': HexBytes('0x0000000000000000000000000000000000000000000000000000000000000000'),\n",
       " 'nonce': HexBytes('0x0000000000000000'),\n",
       " 'number': 27740529,\n",
       " 'parentHash': HexBytes('0x1e632df40ecdb609953fc912ecdb161a2557d470c736bd1096f73b8097b47468'),\n",
       " 'receiptsRoot': HexBytes('0x2f45de5fe33fb18007eefdfc5fe5400546fa0bcc98b0d85787190d303e2f9d3b'),\n",
       " 'sha3Uncles': HexBytes('0x1dcc4de8dec75d7aab85b567b6ccd41ad312451b948a7413f0a142fd40d49347'),\n",
       " 'size': 82143,\n",
       " 'stateRoot': HexBytes('0x335436500fc36db71918b54644ebbcacdbae4371e203f84c40316cc03eb503d3'),\n",
       " 'timestamp': 1682677513,\n",
       " 'totalDifficulty': 55128177,\n",
       " 'transactions': [HexBytes('0x01acffe679bc910dff8c1bb8a2d2392fe957bb84ca61ad39888f6b0199d8feb8'),\n",
       "  HexBytes('0x632e9505f04b763fd52bd2910e8ad2696789251371f9a2e66f08bb143148d02a'),\n",
       "  HexBytes('0xc757c3ba8b5564545a8a86d32880d5ab28e8c4e4b5d5f576115e76bb4c546e55'),\n",
       "  HexBytes('0xbc3b858bebbb01663dd4a4874c0861d1ccee07e1a7b5b320ce29563cf3bbbebe'),\n",
       "  HexBytes('0xc0469e552a675443d1e01273da68d990579eefd483d9e2a438996e500056401d'),\n",
       "  HexBytes('0x70b7e4ed3258321bcc106ab53d46fe6cad35f208ee38d7c25d4aa79d92c883d9'),\n",
       "  HexBytes('0xd178f1db9cbbf19720ac468a74936033f460ff9aeeebc23a0f2f4651be5199e7'),\n",
       "  HexBytes('0x2d419d9934ec948d14b667cffe1aa637007ec6567b9b257658c80e5276348c51'),\n",
       "  HexBytes('0x8dd943b2a5afeff095d607203c724df1abe2471f9c2be0117b03b2b6ace35013'),\n",
       "  HexBytes('0x3f89ae7423a89549e8864f4ef9d75d68f3f686f8fef49617361e2e08c9ee5335'),\n",
       "  HexBytes('0xa2cdc840b04e246967f709116681be8af0d4b97307b4debe0abab1026e79dfc8'),\n",
       "  HexBytes('0x6ed6c6cbe7fb7d30493ca6fe774ad4f2d863fb44c2302e9afcf4ecbb52d339f9'),\n",
       "  HexBytes('0x89f58fabae566c88f3073b980eac559456303ba58c277d28f9aa71e63e81b78c'),\n",
       "  HexBytes('0x596b63987e850dd2d9a550f764393f0dca45969d69deedb9065c68dec395eb46'),\n",
       "  HexBytes('0x6f618bfc44fa1c04b61c06380e41fd82b3fb1f488df25797cdb619fadfc83517'),\n",
       "  HexBytes('0x8d1496d6e58529188b8e923b10305554300491740fcbc76c7e4be23ad5b1114f'),\n",
       "  HexBytes('0xf4260a699733990681c1ac910c14ecbee797595c901b425a278f564dba2ff882'),\n",
       "  HexBytes('0xd901c349c597aabe2a7dd44804c9991cf67150f697e98964480d581b0bb9a69e'),\n",
       "  HexBytes('0xa25f1bfe58e49a267c71c0a5adcd4936f127046051e493fc6209300cc538bae1'),\n",
       "  HexBytes('0x8ed36ab92d652c624e15dd9c3c05f96dbbf69ef94bb6a88c7dd045aa11ba254d'),\n",
       "  HexBytes('0x99e05f306f49a9886fb9b1268ede33c71fc6b998655c9810be91e09fce5b4b20'),\n",
       "  HexBytes('0x899ff1bf1091531e13b2c057090a814c12858bee5c11a4f507f0a9764873646c'),\n",
       "  HexBytes('0xf279ae670a5edd53544a4fd9c2af8274e59b2ccf2b8dc772cbecbd867fd41b16'),\n",
       "  HexBytes('0x48b571d08f94b7b76768204412f95cb32bd9abeb61b1d8af41074b2f3f4545fa'),\n",
       "  HexBytes('0xdc2ec3fe356307df81f8f98170b7af228fff76c24d870fdb00e209e316eec517'),\n",
       "  HexBytes('0x96b8bfac7b99a9c2dd8e71473f1b02de9834bfcd093051587768f6d3bf798245'),\n",
       "  HexBytes('0x8d5ee3778414fb25ad1abf07f8533495c6aea4cd624fe741f0018c135e1051b7'),\n",
       "  HexBytes('0x3927c6c0b493d61a184f2e79b94a25f268d7109dc719ba6e283b47503e8fa694'),\n",
       "  HexBytes('0x4ad0ae6b91598748e56c4ed71f52eec0f0f3d4afb1f42a58fffa5cf08fb7af11'),\n",
       "  HexBytes('0xdff13cf873dea461b40c5658a5280c329f4247db246bc7cb2442b2713f6c7fe8'),\n",
       "  HexBytes('0xac9481aceee5a99eec7adaddbca7d5c7b2a906dfa285c93a07e73a95a33f25eb'),\n",
       "  HexBytes('0xfbe073eb011fd7ad4f62d795938b9e332d2150ce4415c9a0ef84587eb55ea21c'),\n",
       "  HexBytes('0x9f848ce7f91ed937af9e7653a314744c097de14a6dd004df2e20118949f35c5f'),\n",
       "  HexBytes('0x4e056d5753ad6518d9a2da1a7848ef8c312c1dd2ef7547c89056ee00c05f27dd'),\n",
       "  HexBytes('0x622e42565255a8a68f27987839d916426102e13da67d744f4decf450d5b16554'),\n",
       "  HexBytes('0x52776ef498e282cf2f77a0e5f3d2d270a68f357ce28a913f8df1177464aa5ac9'),\n",
       "  HexBytes('0x48722abd2bfed51e34d1cd28d9cc91bd519c95e0c76d4eb8b3e3daf331149c71'),\n",
       "  HexBytes('0x974dc1fdd398528873e64d001ebb20be0703993e5c95fcc9d1082efdd793ec0b'),\n",
       "  HexBytes('0x949e9b0b0cac0312c295862abd6bba92b00a703090e2cbc385293d483e8b5f9c'),\n",
       "  HexBytes('0xd4e1b82358b5d8847d357a03efc51575ea2b51893c22a473f48530fcc0051d7c'),\n",
       "  HexBytes('0x87b563630791e286bbd20a95cfc5fcaa1f7c952a7057b588c45c8dc9a5f996c4'),\n",
       "  HexBytes('0x2e41abc6ad3f86201f8290060562f0facb47628450a2e82fe514e4ce94f3ec45'),\n",
       "  HexBytes('0x09a4a1a3a7f0a08e95dd497607a1b61df69ebff2def903e068ae81a12413f915'),\n",
       "  HexBytes('0x5536d98da9f82d98806e3983728972b988969d18b2695453deb77cf89a0090b5'),\n",
       "  HexBytes('0x56143e5eea34187be3484b9652d9e6afca0a9ce3ce3954e59d6cfb70588ee9d9'),\n",
       "  HexBytes('0xa689716b99b94d9c4be246e10691d1cf787d9dbd3e1c471e7ff46bca04b4ef2c'),\n",
       "  HexBytes('0x173346d2ab07c43bd930134f6afe996454dfbec38620431cf532cb9455c487d4'),\n",
       "  HexBytes('0xf5875074c176abeda4a380e3b5bdb86f8a6836eca2255aa9aec73e67141be178'),\n",
       "  HexBytes('0xc0b2c4ed04a3c86193f3687c7fb372005f8befa5b3a77a06054db9314634f7cd'),\n",
       "  HexBytes('0x82d5ddcece57242b04362202fe73e04e35ffd83b51f18c2914e142118be965c8'),\n",
       "  HexBytes('0xf5341c4daf6832691933cd265db8b58dd7a9fa348b8f0abd864ca3a4f051db97'),\n",
       "  HexBytes('0x853b5842e11f59a74c6f1b5d2a7d969418b78f3ac7066b8f955a01106488be3f'),\n",
       "  HexBytes('0x7f07bce29ef1144cf0335a768f5b5858ecc2a5afd7f2bed126b722c3d74d94ad'),\n",
       "  HexBytes('0xbc64c5b29b34fb62d1a40b6db04710e0f40ac026e9c959b4f7ca65de3249d587'),\n",
       "  HexBytes('0x10b343be0903c624f2be08298eeefe3539ceba5e78391b0db5724a04b6e734b4'),\n",
       "  HexBytes('0xae2499a6ed0d2c3f5c53ce820f7c7709c5a0d098b4e23f1366a9fa8923e3f0f7'),\n",
       "  HexBytes('0xe8211bcc5ee0ed287726b9360cfe362a7b153421184eb0a4eae1bbd7fc4c3966'),\n",
       "  HexBytes('0x488963fe545416decb0e7917c3cadb1830bb19be4a6c3bd58dd0835d94fbcf9e'),\n",
       "  HexBytes('0x84547e4e57569f38bab959828b3249278ba2d15d8738d17e78060da0b7b5b750'),\n",
       "  HexBytes('0xd5b1126f9f626ae435b9bf28bd2a93ee43f35a91f4840d18a0ade64050e63485'),\n",
       "  HexBytes('0x8315c46381f8fa406661378288165be47d3367492b725feebdc91b9d986085bc'),\n",
       "  HexBytes('0x4e9d4f40be4e01533c05d478a91be22e948311e6dc8e1b1e8566a4f8d2aadeb6'),\n",
       "  HexBytes('0x0b3001741b73080f7138395d8fc581fa6f466dcedc489d05da6b4215efbbaea6'),\n",
       "  HexBytes('0x6fc9ab77ac9301028f7ab1a6a97b85260a9d823f7172af0c32d23dba45478a0d'),\n",
       "  HexBytes('0xdf3ff33301bdf49e08bd8732cb85884d4f49c1c63e2aa531f74970bad3a337e6'),\n",
       "  HexBytes('0x99706447d32fb4f099a7329bfccf42f1be2c3d9afac974110167458bc0e647d9'),\n",
       "  HexBytes('0x383451a9e7e4c25b1304447d227b282ab8c00c142c6de25655e663e51170eb8f'),\n",
       "  HexBytes('0xd9032c5c690ad56c3f7dabe865f777667bf3142a323e3f7ed0b3da48cccf0579'),\n",
       "  HexBytes('0x48cbcc96cbee7424bde906965ee3e7eb1417abbd848ba30e0622daac552e7f4e'),\n",
       "  HexBytes('0xd8155919639762e7159365195642a788c240be39806df64b142fb9dfc37ccae6'),\n",
       "  HexBytes('0xe49773710b89e386ff4176acc75083107cd4343ef64c52fd75f2cb948c3241c5'),\n",
       "  HexBytes('0x1e03e4d2db7629353d3248c76b956b921ebe4323560c20c47c1ae8be854aa5ec'),\n",
       "  HexBytes('0x3b0a5a7cf3ac7dd91d4810c7679e200459c6234da8638d2e19f413b190b277b5'),\n",
       "  HexBytes('0x8a15c408f4ad295258f89105ef80056e25eb44f8a55be8890a58e80586527c55'),\n",
       "  HexBytes('0xbabbb8976db82694853e94ca3b7e79214c9411fd08c51a97a4c9d4853e1056d6'),\n",
       "  HexBytes('0x012837992944b737404afbc679fcd880125e571aac4f2af6dd498499c8940c7e'),\n",
       "  HexBytes('0xfcde572661b06263c2d3df14015032dbeddfc1a75cb2b76553a8712e45fcb927'),\n",
       "  HexBytes('0x28adcd8f7fde18f9060ee450970eba447c645f78da40a383ebf4c13f4a899f45'),\n",
       "  HexBytes('0xa666160a4dee62018f857a5b32c02dd43dcfa2eb1d77f3aa2619bf6803477b74'),\n",
       "  HexBytes('0xd3d1867126cada17db9eb0010398f038f1eb5f7dadd8f144df7eeb1fad48c53a'),\n",
       "  HexBytes('0x1a7e8f5747bc0e3b7c06c3294accc4a85d51fdc18df3238b43b7536bf020a97c'),\n",
       "  HexBytes('0x0649f7f9dcd71e6cbee9830d27047bbb30a6f6668feedf4118cdedee148e9680'),\n",
       "  HexBytes('0x637ac2607ee0430fa87cb4fa4af3c56ccad4fd26c03858c23e2a5e09866213c9'),\n",
       "  HexBytes('0x93487113333b4858f6bb7a8302b45356e6742f707a43f0920c3ff80aadaddaf7'),\n",
       "  HexBytes('0xf9ef818fb3d3f557623ce5689eb50d42aec112f340126e4d0088546d1600a2f5'),\n",
       "  HexBytes('0x4e4ba82e0e4a62049faeb70a8853db8a81f560a0bdc7b4deaa9944ab7bcdb8a4'),\n",
       "  HexBytes('0x450c4012f758b8a8ebb1aecbcdcd75369acdb2d6addbc510c79a8fc0149a1f23'),\n",
       "  HexBytes('0xed720c62cb45446c49f9db466bfcbf34c37902368c9c62f717854708535ccc1f'),\n",
       "  HexBytes('0x3f0c8491dd958ecdfba933b02bb6071e2227065b9f85a24775f5f3f367c13911'),\n",
       "  HexBytes('0x0c2db83b42c3536769a55a0dd72071763231a81baaa15223c5368fbe24e917b6'),\n",
       "  HexBytes('0xf0b1bfc578c306452a64bc9c555b2b6a78b713aed7cce15d01d7fd04d7a046bc'),\n",
       "  HexBytes('0x77365b359b4b8baeff9497d42eb3a82f37b3a9b8ac5297279a914834e48543da'),\n",
       "  HexBytes('0x80337553f68a23286a3bb42cf4151e9876b09315ecc5ef800b69c70388a94a0c'),\n",
       "  HexBytes('0x0c79b7bb24dea3df73e31b31576807ad945289eb36c6a55659b4d088425bc944'),\n",
       "  HexBytes('0xebb1f5b105479ea98642cb541190b3aafe4df3dfcd46937947894d4251d844ed'),\n",
       "  HexBytes('0xffb8f463b531c9974cb624d7cd527bf2d370faf55b661b27ee13ce14f1eb3147'),\n",
       "  HexBytes('0x863f9ce46d0e7d81719195c4a1e86c523bb303e84ba0f6d442f3784f16523948'),\n",
       "  HexBytes('0x6784edd403e485141004af325740d464365f0c4c4b78e53929d9c73b5356ef2c'),\n",
       "  HexBytes('0x1203fdb1a7d5f8e602a5ee3c05fb1640a718a3b5a380a7d11a056c1a1d5533fd'),\n",
       "  HexBytes('0x378bedf2a9d05f3fe64449cae4d1b8d91ee9353baaecaf3e20d047566a505eb7'),\n",
       "  HexBytes('0xe5e3588f48c16b4f87a7233cf233c3be11628710972bb5651d8b592139280e29'),\n",
       "  HexBytes('0x74c8a84965240d8d1365deb98bd65cb877884c7c95bbf386b7e683c9779638a2'),\n",
       "  HexBytes('0x193c8abd67511fb446075b8056a5ca679f643415a4d48aa220d197ef05d39525'),\n",
       "  HexBytes('0x3e437395bc940b8146d96f2721d2caddb643a46abf53527057709e5678bd6c33'),\n",
       "  HexBytes('0xe20ee5a3b287255a5edc784e927dda965e079e0dc0235c64476a11f046ffc025'),\n",
       "  HexBytes('0x03105c4afd69bf697fbfaa57f6c9664f1a45e2483cc54d3c14397861371d1567'),\n",
       "  HexBytes('0xa32cb7bd62836f27c38a1a2904d16c64e29c2508644523816d7d727158617d57'),\n",
       "  HexBytes('0xb6fd14f6f23215080aa5610abce568e3fe6e8ac5b980a03270f42764d06c4c58'),\n",
       "  HexBytes('0x716bf82d79b6c57529d04879967340ff6d791d8101547fe6ccb165cc06b89453'),\n",
       "  HexBytes('0xd3919953da721b5ce595b21ea3cbf4fbc3a1fb47471292e482c74097d332c8d1'),\n",
       "  HexBytes('0x1984971d692f3fc17c276857d815172351b6e0efe1d659385e2a03a43e7e1d30'),\n",
       "  HexBytes('0xe09648c8a3172f99886dc594afa53deafe1b977626a3c4d06e1e31284c544a58'),\n",
       "  HexBytes('0xafde0d3f72b2e0b1507f4a7489198e653b0ca7ccc423b724d5721db52cc51c8a'),\n",
       "  HexBytes('0x7df3e00235f85e05f0c3030f5058264974a84c9471a5e3d95540869f176de4c3'),\n",
       "  HexBytes('0x629fb78022bd4b48889452417886ff86b6bf72c0c01b08929fdcb89335e2d349'),\n",
       "  HexBytes('0x6fc9797daad58aa4b50ad6b304e6740decba6945b0d7c435b8e3f95edae4c7c3'),\n",
       "  HexBytes('0xc85e98aa30319e71a1ac668ac39b3379387ed91a7f41483425d92f052e5ccfe2'),\n",
       "  HexBytes('0x3496554c8e0d8ebb48bdb79bad41a4d45bba768504a21a584c75aecf33e621a5'),\n",
       "  HexBytes('0xf682deab15d5f151505ddb57a5ad6c0dcf3212237783b02eb052b0f4451c4f12'),\n",
       "  HexBytes('0x447cff06d132b3e085425af37bac59b3d6b2ffabbe5ab1123a5b1466e89ec72d'),\n",
       "  HexBytes('0x531226ecd10aba5a738cb264f78cb8d3f1b7cf2cbb63975f647b88e042e190de'),\n",
       "  HexBytes('0x2223abc49dc258ab673eea52b4191bec190daf42bed28c5a7e281c3ddd7f5a19'),\n",
       "  HexBytes('0xee7b028e1700ee8b4d831326e374df1f2123b8e75f0d61ebcc4c585b2e278641'),\n",
       "  HexBytes('0x7c3168a23539bf4bea70e9f1a86dd63af951cf6d6869df5daac70659de360a22'),\n",
       "  HexBytes('0xfd701f809d58d164dcb80ef3d39ab4c057f778084e6c54731c67baf9c9415e89'),\n",
       "  HexBytes('0x3e4aa32b95e8515364bd2d004d1319e8537ea632ab32c1dfc301fd6dcb4bbc08'),\n",
       "  HexBytes('0xf4340af2d82ae0f96e26b67ddd8caf9a92781b189cb4a755b7d5f29f4f6c51a5'),\n",
       "  HexBytes('0x8d8d822abd20d108a215625b702540556a810c090a2688276bfa351733deb657'),\n",
       "  HexBytes('0x3d6fb0694d07847a57de398bf92116a417dcd15c4e52f44f04590b93e39b4f8e'),\n",
       "  HexBytes('0x54832200248b231b0e7f2d0ccd87ab423068c6fcaebb4d4d2a140b583f4bf55e'),\n",
       "  HexBytes('0x799505d79a1c7de003746d4e245c3cf2702e0a53b913c97e71c850e3f4b0e66d'),\n",
       "  HexBytes('0xd808f123cb60fe929631296e21c1686a8897c4a1411f70aa78b824cf642e632b'),\n",
       "  HexBytes('0x9d3f52c953ad90cb84b0f90f300c45561f4cf27448778c03493b3b584ba3c9e0'),\n",
       "  HexBytes('0xed75bdb0f47ed4d4f134f3d3b1c010604a4786709746e33f7eba26b0d0455f7e'),\n",
       "  HexBytes('0x740d2baa2612efc2126ca6d7eb73e7c6b68734dfa0cab7c853814ba507debbe7'),\n",
       "  HexBytes('0xf691f563dbae9100dab82ccc76aa3c6ce5bec8066fda481b955c260fb523e1ac'),\n",
       "  HexBytes('0xd39723fc0d7025eddea626cf758f0bacdf1cf42ee4781e93b2a75ea90c4a921f'),\n",
       "  HexBytes('0xde5aef73c6ffce9f7ffa2f7fb6171d6ec7c9c0e8a48b702d66e0931ee500307c'),\n",
       "  HexBytes('0x2409e7501ce75cb84a3ff6b850c7e91fdebb85f062d527148c27c785d379f385'),\n",
       "  HexBytes('0x412e746683ef85d98e5dbca6bf240ffa1f251b37ca7e686720554fca667aaaf9'),\n",
       "  HexBytes('0x42171f829722aa3d4c128650da17b216cd0a1da3c51ec20fb9d663c9e82ae6b5'),\n",
       "  HexBytes('0x1def372d70b519ea103ce4d2644b133243b433ce15580fb20860b100e98377a4'),\n",
       "  HexBytes('0x9a5fb1502bcf281b24b83d17cbb4ea78320f15c7861296f6591b1e0ba4204b87'),\n",
       "  HexBytes('0xef9fb84bfff2c9cfae47f178d7d428bed5e979fa1cb4352d1eb4b9dc0d40cc11'),\n",
       "  HexBytes('0x6581ecb9dbb6c322b81f3f638a10fb9cfad019839d62a093b7c0e53d33339a0a'),\n",
       "  HexBytes('0xf06f563a02cd00adb88b91b0c3a95274ee9d3e839576d3c132930003f463d0ed'),\n",
       "  HexBytes('0x1d53eb01f612b3daa50152d6d8af28a1f73e919138073137bef30ce1d09eabcd'),\n",
       "  HexBytes('0x7c33aef9696eec2f5e7a50f035bf9e04f7c7666896907cd2ee5999ceb4b59d1a'),\n",
       "  HexBytes('0xed569192556ea0e76cbcfe52e19a1f59d06478589c383bfe72ff5f06711f6925'),\n",
       "  HexBytes('0xec1defe50b09f81133ac9cbb462ccc6dd704ab2825afd5ff40f5fb23740fc708'),\n",
       "  HexBytes('0x62e63ed435df4d9517f5c1ddc7d19fcf5b0bf676500cec0f7e2b400ef13b91e1'),\n",
       "  HexBytes('0xb8397cb3219a548891dc16e15148eb56d5da7d40fa9afc8af7ed6c9914b00e56'),\n",
       "  HexBytes('0xb18d1e7caf5e34e7408088502e65408b5276526691874aaa80bb9b1574565059'),\n",
       "  HexBytes('0xde53e722d1153d35629c92b18714d786e83565df7f01f42d896c2137e4fb0d69'),\n",
       "  HexBytes('0x6e788fc0b1377ec3db6ed0b60f1117bb3d379eb48e82d7a9e283542144612733'),\n",
       "  HexBytes('0x137ac732d85170e9f677264690a9c80c78dd20c9f86c1596826991ea061691a4'),\n",
       "  HexBytes('0xb89dfc2a1eec97f218a0b90627da074806244067855eddfbccd6290ec1f95c59'),\n",
       "  HexBytes('0x2b4e5a18ea9d4a578af935e89e95707b8866cd1eb597a3a0d4b4fd7bfc4439a8'),\n",
       "  HexBytes('0x4dc1f9a26ba48750ac137bd6cb0f9b9b50b3f8db43c547eef5174b1bede13207'),\n",
       "  HexBytes('0xbd2b11d5f09c880428726dd122ea62da67efa3e8a0b758c04d9f6dee130937da'),\n",
       "  HexBytes('0xcf7576af7d347df5f03f03356e6a4e59a0a9e5fa787d408d05eea7c7356f25a1'),\n",
       "  HexBytes('0x130dd6e97ed243d46cf68a67286e09c4c1b2da15c9bcc7a65d17d897935602ba'),\n",
       "  HexBytes('0x55c68ca40788949fc3bbf13e7039b2dfa7a204c9b5cb82db43e622ffcf8c08f4'),\n",
       "  HexBytes('0xca65942414b5e09aef304e19c978fdc8178e5d476e98bad82d3e42e5447b2863'),\n",
       "  HexBytes('0x3dba012143d59be3adbd8d5a932c291404e9642bef743c252bf4ac0359bf1453'),\n",
       "  HexBytes('0x482a957656f8898e0048a61395928cd378a0cb334e65f6e08b2ffab3f3a50806'),\n",
       "  HexBytes('0x03ea3b578300028f4daffe295680a7bf6ca7f0c908b5c96d4e578cc159698934'),\n",
       "  HexBytes('0xd295fb72d230cc66f4da54655b9c485e64a508b6b55d37f20e45ac28c2169513'),\n",
       "  HexBytes('0x4161e4e04d36bc97b730882617d91810a90d1c1730e94388f576e81c2cdaa137'),\n",
       "  HexBytes('0x68f26a997af77d1f0ff8d33b64372ca58ac328758d3e37c7d8c2d8b2d9c17edd'),\n",
       "  HexBytes('0x917050d66e748d8aa41a66ce59cdd30250b97248905f8363a2cb36ef9a844d2d'),\n",
       "  HexBytes('0xfd554d51690a60478037bf0bb3988d82744d7febc989d768753cc9f22ec61376'),\n",
       "  HexBytes('0xa74a1e8204fda5f8d91a17f3f99b36295bcc856fa6e1d349875d1706c14a0fb4'),\n",
       "  HexBytes('0x12ba007a59391daae38995502992bb2523e5bca6a5740bcd1104722c176289bb'),\n",
       "  HexBytes('0x83de395aed3f0a6a330d0e1eacea89347f848a84a26ba5b3e03b115056a70dd6'),\n",
       "  HexBytes('0xf3604fa3b2d658b301d11da6d2d2eb3d30e1c65300fd026c44ccfc9b0e22fef8'),\n",
       "  HexBytes('0xcd98d03dff678f2299bddb9ccefecb0375cd84bedb28d5d711d579775f1f7b5b'),\n",
       "  HexBytes('0x0d7048aacc14c9ded3395dcd307066df557f18cfbfca03d4375c7c97bf02ad18'),\n",
       "  HexBytes('0x1ae6243b16d34872705b813914cf550aa965553bb06aa389edb628a3c4beb936'),\n",
       "  HexBytes('0x06a108ffcad0e3b28101744c40f458bf83ef98c2a8083d5af48372b515df91b2'),\n",
       "  HexBytes('0xbee4744f07c794b389c56c468d3e6afa1d27c980b906ff999e11d52105129268'),\n",
       "  HexBytes('0x9e4d72a9461fc72d2cb8ca207c3175f1683a62718a14071becf682d1ed17811c'),\n",
       "  HexBytes('0xbe28e95621bbae315425fd5f610e10a7ec36ff24a265eae47d3e1ecb8cf1743f'),\n",
       "  HexBytes('0x6d89c5138b770e9f6452c010cb7808148b03dd53baa16b522f40758278a5680f'),\n",
       "  HexBytes('0x8cd52776c4c49fd73ca77a4b28f2eb690d6e6a043a0794d7ef1bcfcab6f119bf'),\n",
       "  HexBytes('0x583790d5214a0b6df4b474ecac28bfc89a082707f86f3dd745c0a90a529135a0'),\n",
       "  HexBytes('0x5d40c3ff2dbf87697bbc234344f17abcbbf926901924cc22b95b910bd127d89d'),\n",
       "  HexBytes('0x183bce156e9136a27b71b187d0209ecfe554ad8129447ed19f3ab45db8622a0a'),\n",
       "  HexBytes('0x4fe2b416c527e409f74e068138ad77a41f6d388fff0f0c3858d2941a6b011004'),\n",
       "  HexBytes('0x83b96b84aa653d761a345ce942fb19e703e8953890de8a8947e81f560ba2e499'),\n",
       "  HexBytes('0x1a976a07e21574dc596254c8fc24674ab028e768ffc6359e2626379d55a90f38'),\n",
       "  HexBytes('0x7c60f1f7a9bb87b3009a89be723b555a4bfd611e1c3f0a71dbcf98fa1136cc4c'),\n",
       "  HexBytes('0x1d6b1f2c8e5b97399442fbc80460e324fe124fe08db6d15337939c69b481692e'),\n",
       "  HexBytes('0x143aa5acba309a858c6784e0e6c7a0c16e7903d1e7bb1bd5cdaa7d062dca5fba'),\n",
       "  HexBytes('0x1c0305b19d3c33ad1617b3dfb9ee01edf04fb9ccaa8828cf13be73f3389b30f0'),\n",
       "  HexBytes('0x3bde39e370e103f74d9a38389c3c5f14c87bd53038806f1520f68758d1ff32c1'),\n",
       "  HexBytes('0xac164698a0691d93d13dc9edd5f84130bf10518ad51b25805506dbb195a365a8'),\n",
       "  HexBytes('0x21826f5f5ad3c03f10784d05ea02119ea52c1c761eb8f90e225255b5283f02f3'),\n",
       "  HexBytes('0xe5853a0214325dd0ddfaa35133ad17b094d028650a516755a54b58ec754f309b'),\n",
       "  HexBytes('0x951dd3744d54ce32f9822b88162278e5c6ce9fc10bc0d52e82fef80edabc4b03'),\n",
       "  HexBytes('0x43c41ca8aa926887b192fa712278479e2242425ba21bac082bbce59b94acc776'),\n",
       "  HexBytes('0x4a35497d88d1b0c4f2c63522be19930993526d123300a76feca182c36a27055e'),\n",
       "  HexBytes('0x4bf7e7bf31b0376077a1cd19e5dcfdbf6a74d15559206f4bc27ae06250bb45e7'),\n",
       "  HexBytes('0x77f33f0e4a5c7be0288cf49b3202a61f9744ca7239cdd1c8d237584d717b7578'),\n",
       "  HexBytes('0xc939fb542d0b16ac20a2aa113f3c226008f20360013e2824cb221af6c2778950'),\n",
       "  HexBytes('0xf72324d3a0b09cb026907c4610448f4b24437d4b21e3b30e0f1a9e020d5d230c'),\n",
       "  HexBytes('0x58a6f47bd77f9f24293f4f10ad31d88cb636480c3ad2bcd15b7048d0fedf66f8'),\n",
       "  HexBytes('0x24938c60c0a420cee11e629e0805f958a77c53641f6d4322a9d7c515174216d8'),\n",
       "  HexBytes('0xaf38af4be215d39766e3bfcde0bd28a028c203568ba9d345085603674fc77928'),\n",
       "  HexBytes('0x220552d06e8189d3fb1b7bf45c386b502acc0df65c3ba22b11c4fb85f5e193e2'),\n",
       "  HexBytes('0x164bc33c0dc1305ba4ed40bdd42e35307f47e383509003581378739be22ac2e7'),\n",
       "  HexBytes('0xc220c010063e2ee8de24521dfeaa5faa01a80bb734c9fb3368a8ecc8c0ada2d0'),\n",
       "  HexBytes('0xf84b4b3546187350bec61ee4e32846bb044227d16cb7c27e1e9df3110567d70a'),\n",
       "  HexBytes('0x206a2e2a6726d23a03873ab8f6ebe2cfd5d9849a8005856e5ba0c8d31bb2a8b4'),\n",
       "  HexBytes('0x2e3ac4d4883628d27a603dbffca2fc9a181c88bdaa5ee871c72e1f696860d97c'),\n",
       "  HexBytes('0xf9bd1e952ecdf1f8f8dcf69f17f555aa2f97f453dd4a4a4de8f7be3a85102553'),\n",
       "  HexBytes('0x1429ec132411371ed4aa0f602ca7cae60efbb53ec59e91bc1c8ab394c01cc70a'),\n",
       "  HexBytes('0x8aaf86ea4d786c39ce5c9c486c7aa1177c541d6b27dc54854ff46bdab8df2ce1'),\n",
       "  HexBytes('0x5c814d5b107862f8aff0ea0394f407be0c0331c3a319a6bac3e392868b272719'),\n",
       "  HexBytes('0xff0152b77640556d2f09d07e6025d3e24c02d57077b71a0670de3ea1054390e8'),\n",
       "  HexBytes('0xb0e602e0a3b7ca5426a00793327cb5f80d71f2d132ad1f404465d36293a6a36a'),\n",
       "  HexBytes('0x9e66d1916159bee3f229fb8cc8e04912f31e6374fb8d94e05e14e90e84468a93'),\n",
       "  HexBytes('0xe43ad4ac477446b6882a7de625bbedb1262aac43bd270095889e02b3ad2d6ae5'),\n",
       "  HexBytes('0x6695d95bf27ffcc268d1ff69576880020c72091147be74b00d37e66a8c6dc278'),\n",
       "  HexBytes('0x58a0ec68323cb447204ad4edb277839846fa8f41ffb91d910df69bb038abd17e'),\n",
       "  HexBytes('0xd0156dadca384a435a5606c2d78e183176e1b09a41e3eb5150be6d8169b7782c'),\n",
       "  HexBytes('0x1d65b75cbe414024c844f6d4f7fdf8ca3cc077db0cd8e1148c4ce244eb9b445c'),\n",
       "  HexBytes('0x17a1c938cd80858d6a91b75ee3c130150a69ea27be9e976003e24ccefb605c44'),\n",
       "  HexBytes('0x3422b2661b12fb3f2b6344aa1895828f8729885f4566192b0319fc284fa79571'),\n",
       "  HexBytes('0xf0447b43debd69ad375401af53e94594aafe2e7ede439ef6f054979278e7cee2'),\n",
       "  HexBytes('0xb87a1e83ee2ff93ffbad23fb3aa75449858c7ba6a7e9c9be40e5cf3bd2ddb1f9'),\n",
       "  HexBytes('0x7dcf1d7741383e20c231cbc0a10db52014bea1076937c50327491ab36d14ec54'),\n",
       "  HexBytes('0x8eb8fa0fe4a70938d3f69fe4e316f313a4f7e71988aa75551183d1ffbb2e6716'),\n",
       "  HexBytes('0x6e449572c2bb8a1ca29678a295e8207d474a2a014c2ee8a949f1d6ed7c2a1ca7'),\n",
       "  HexBytes('0x03e352ad7b9f94f7b8fd21c81842590304d9974fa609f1545954e450013ece7a'),\n",
       "  HexBytes('0x3d65dbc80fd56892a5582f97386532d36c4990884d345e8da7574bac541d9659'),\n",
       "  HexBytes('0xc26f404d01dbe09eb48978646346c506494668a8ba8de0c87a476b373026a1f7'),\n",
       "  HexBytes('0xe63d8a75ba3c14bd13a36cfd4ff29997f76d93247f4e62db90dc7985ffdb04c7'),\n",
       "  HexBytes('0x3dbe02d87275e5a2bef14c0eec231da07556d5c709eae33d46d600204feb0d8c'),\n",
       "  HexBytes('0x137713b17ec1ac262688e929746f8c7776ab16faebb837977c8119b8d96f718a'),\n",
       "  HexBytes('0xd5da0e8e562530437c5dfb98f8a12174d4ba9c3aede0f2cfd3e1db01a66835cd'),\n",
       "  HexBytes('0xff537a9bf2193a1e640a707f1fc0c68f8acda482758b02e46645607f997ccb21'),\n",
       "  HexBytes('0x37adbf4e512933388d3872c4b473f1efd3b1c684ebb12cdf2f3eb8e518aef8a0'),\n",
       "  HexBytes('0x10af16fe8934d9ed374b7c49088a04bd7d2f748a37443465566f7f96e5dcdb16'),\n",
       "  HexBytes('0x8e3611428b7f2dddf62e8de6b9baec01f9b2266e92f83d792b88efe0bead5aed'),\n",
       "  HexBytes('0xfe7a9ededdb1c1e38edc4ee8819fbcc3d3855085a3b36c1806ae175baf7ce8cc'),\n",
       "  HexBytes('0xeda29213cc214a217ab1123f5f9980a2323d22a48c239e28e4b79057995e0b0c'),\n",
       "  HexBytes('0x16d324bf9f4ffc214de553a4f058d1c5a6650298434499b7028edabace06e925'),\n",
       "  HexBytes('0x0e0808d474f9642abdebb1be05a71cf73862ec3133f73ce933314ae5825519b4'),\n",
       "  HexBytes('0x29a8f07c492198350f96aa8cff0306b31cfaceb01c02f2dd87ec1595964e28fa'),\n",
       "  HexBytes('0x3bbd84ae1e8cc48bd88a58fae620c07b6e8d52de318332aaac032f9153c495c9'),\n",
       "  HexBytes('0x36b69d6ba0024fed19b11a070e82f1f80c217203889916f1ceb32ae53c997812'),\n",
       "  HexBytes('0x33432b07bde2ecaff508d244db31227e4cc8b452e87d960dbe045ed35279eb32'),\n",
       "  HexBytes('0x1e70edcd7375b51adcdac391fb9f26e4351cc68156783e260aa9fff36347dd4c'),\n",
       "  HexBytes('0x1c5acd226df7c8bf4c7d9073806f28f6207360080b50d2062d05853310b6d8eb')],\n",
       " 'transactionsRoot': HexBytes('0xe190288052ec2512199adccc513d66b488c95465f3ecae853192e03d5fff7442'),\n",
       " 'uncles': []})"
      ]
     },
     "execution_count": 3,
     "metadata": {},
     "output_type": "execute_result"
    }
   ],
   "source": [
    "#get latest block transaction data\n",
    "data = web3.eth.get_block(blocknumber)\n",
    "data"
   ]
  },
  {
   "cell_type": "markdown",
   "metadata": {},
   "source": [
    "## 3. Thu thập dữ liệu của smart contract\n",
    "*Thực hành thu thập dữ liệu của lending smart contract Valas trên Binance smart chain. Để có thể lấy dữ liệu của Valas ta cần có:*\n",
    "- *Địa chỉ smart contract*\n",
    "- *ABI của Valas*\n",
    "\n",
    "*Địa chỉ smart contract không được Valas công bố nhưng bằng những nghiệp vụ chuyên dụng mình đã thăm dò và lấy được địa chỉ này trên [BSCscan](https://bscscan.com/). Dưới đây ta sẽ tiến hành lấy ABI của Valas*"
   ]
  },
  {
   "cell_type": "markdown",
   "metadata": {},
   "source": [
    "### Cách lấy ABI\n",
    "*Đối với các smart contract cho phép lấy ABI trên BSCscan, ta có thể  thực hiện các bước sau để lấy ABI:*  \n",
    "1. Truy cập [BSC Scan](https://bscscan.com/).\n",
    "2. Nhập địa chỉ smart contract address vào search bar.\n",
    "3. Kéo xuống và chon tab “Contract”.\n",
    "\n",
    "![image.png](../images/contract.png)\n",
    "\n",
    "4. Kéo xuống thêm một tý, chúng ta sẽ thấy phần ABI.\n",
    "5. Chọn nút copy ABI  hoặc download dưới dạng json.\n",
    "\n",
    "![image.png](../images/ABI.png)\n",
    "\n",
    "*Lưu ý:*\n",
    "\n",
    "> Một số smart contract không công bố ABI, ta có thể tìm kiếm source code của nó trên github, deploy và lấy ABI.\n",
    "\n",
    "> Đối với các smart contract không công bố cả code cũng như ABI như Valas, mình có thể đọc [docs](https://docs.valasfinance.com/) của nó. Tại [đây](https://docs.valasfinance.com/#why-valas), mình thấy rằng Valas sử dụng công nghệ của Aave Finance. Do Aave finance public [ABI](https://docs.aave.com/developers/v/2.0/deployed-contracts/deployed-contracts) nên mình có thể sử dụng ABI này. Mặc dù một số điểm trên ABI của Aave có thể đã bị Valas thay đổi, nhưng nhìn chung là có thể dùng tạm để thay thế cho ABI của Valas."
   ]
  },
  {
   "cell_type": "markdown",
   "metadata": {},
   "source": [
    "## 4. Thực hành thu thập dữ liệu của Valas\n",
    "*Tại đây, mình sẽ demo một số cách lấy dữ liệu của một smart contract. Chúng ta có hai loại dữ liệu cần lấy, đó là:*\n",
    "- *Dữ liệu từ các giao dịch (transaction) của smart contract*\n",
    "- *Dữ liệu trạng thái là các thông tin từ các phần tử liên quan với smart contract (với lending pool Valas, các phần tử  này là các tokens và users).*\n",
    "\n",
    "*Việc thu thập dữ liệu sẽ dựa trên ABI của smart contract.*"
   ]
  },
  {
   "cell_type": "code",
   "execution_count": null,
   "metadata": {},
   "outputs": [],
   "source": [
    "#lấy cấu trúc dữ liệu của abi\n",
    "with open(\"../abi/lending_pool_aave_v2.json\", \"r\") as f:\n",
    "    abi = json.loads(f.read())\n",
    "#Địa chỉ của valas  \n",
    "address = \"0xE29A55A6AEFf5C8B1beedE5bCF2F0Cb3AF8F91f5\"\n",
    "# Kiểm tra xem địa chỉ có đúng không\n",
    "if not web3.isAddress(address):\n",
    "    address = web3.toChecksumAddress(address)\n",
    "#Sử dụng web3 thiết lập đối tượng contract để sử dụng các phương thức\n",
    "contract = web3.eth.contract(abi=abi, address=address)"
   ]
  },
  {
   "cell_type": "markdown",
   "metadata": {},
   "source": [
    "> **NOTE**: Nên kiểm tra xem chuỗi byte code có phải là một địa chỉ trên blockchain hay không: **`web3.isAddress(address)`**. Nếu là địa chỉ, nên có thêm một bước convert địa chỉ thành địa chỉ thực trên web3 bằng **`web3.toChecksumAddress(address)`**. Do địa chỉ trên của mình đã là địa chỉ thực của Valas trên BSC nên hai bước này có thể bỏ qua."
   ]
  },
  {
   "cell_type": "markdown",
   "metadata": {},
   "source": [
    "### 4.1. Lấy data từ **function** của contract \n",
    "*Mình sử dụng một số hàm trong smart contract để lấy dữ liệu từ các tokens được giao dịch trong lending pool Valas. Đầu tiên sẽ lấy danh sách địa chỉ smart contract của các tokens được giao dịch. Sau đó, lấy thông tin của tokens dựa trên địa chỉ của nó. Thông tin của user được lấy tương tự như vậy (Không có hàm lấy danh sách users, vì số lượng users rất nhiều)*\n",
    "\n",
    "> **Note**: Cấu trúc các hàm này trong ABI thường sẽ có trường **`\"stateMutability\": \"view\"`** hoặc có chữ **`get`** đầu tiên của tên hàm\n",
    "\n",
    "#### 4.1.a. Lấy địa chỉ các token\n",
    "*Ta có thể tìm các hàm hỗ trợ lấy dữ liệu trong file ABI. Tại đây, mình đã sử dụng hàm getReservesList trong `abi/lending_pool_aave_v2.json`. Các bạn có thể thấy cấu trúc của nó ở hình dưới hoặc vào file ABI này tìm kiếm thử.*\n",
    "\n",
    "![image.png](../images/list_token.png)"
   ]
  },
  {
   "cell_type": "code",
   "execution_count": null,
   "metadata": {},
   "outputs": [
    {
     "data": {
      "text/plain": [
       "['0xbb4CdB9CBd36B01bD1cBaEBF2De08d9173bc095c',\n",
       " '0xe9e7CEA3DedcA5984780Bafc599bD69ADd087D56',\n",
       " '0x8AC76a51cc950d9822D68b83fE1Ad97B32Cd580d',\n",
       " '0x55d398326f99059fF775485246999027B3197955',\n",
       " '0x1AF3F329e8BE154074D8769D1FFa4eE058B1DBc3',\n",
       " '0x0E09FaBB73Bd3Ade0a17ECC321fD13a19e81cE82',\n",
       " '0x2170Ed0880ac9A755fd29B2688956BD959F933F8',\n",
       " '0x7130d2A12B9BCbFAe4f2634d864A1Ee1Ce3Ead9c',\n",
       " '0x14016E85a25aeb13065688cAFB43044C2ef86784']"
      ]
     },
     "execution_count": 4,
     "metadata": {},
     "output_type": "execute_result"
    }
   ],
   "source": [
    "contract.functions.getReservesList().call()"
   ]
  },
  {
   "cell_type": "markdown",
   "metadata": {},
   "source": [
    ">**Note**: Hàm trên mặc định lấy dữ liệu ở block mới nhất. Ngoài ra ta có thể dữ liệu của các block trong quá khứ thông qua parameter *`block_identifier`* của hàm `call()`, các bạn có thể tham khảo tại [document](https://web3py.readthedocs.io/en/stable/contracts.html?highlight=call#web3.contract.ContractFunction.call)"
   ]
  },
  {
   "cell_type": "markdown",
   "metadata": {},
   "source": [
    "#### 4.1.b. Lấy thông tin của một token trong Valas\n",
    "*Để lấy thông tin của một token trong danh sách token được reserved trong Valas trên, mình sử dụng hàm **`getReserveData()`**. Tại đây mình cũng sẽ thử lấy dữ liệu trong block ở quá khứ (cụ thể là block cách block mới nhất 10 block), sử dụng tham số `block_identifier` của hàm `call`.*\n",
    "\n",
    "> Lưu ý là ta đang sử dụng full node provider. Full node chỉ lưu dữ liệu state của blockchain tại 128 blocks gần nhất (Đọc tìm hiểu full, archive và light node ở đầu series này đi nhé, quan trọng đấy). Vì vậy ta sẽ không thể lấy dữ liệu ở những block cách block mới nhất quá 127 block"
   ]
  },
  {
   "cell_type": "code",
   "execution_count": null,
   "metadata": {},
   "outputs": [
    {
     "data": {
      "text/plain": [
       "((92234085768165225799488,),\n",
       " 1018569103063889283479496079,\n",
       " 1073528567882155171570675740,\n",
       " 16653618569346878212989384,\n",
       " 76949896701908869988366249,\n",
       " 10000000000000000000000000,\n",
       " 1662717379,\n",
       " '0xB11A912CD93DcffA8b609b4C021E89723ceb7FE8',\n",
       " '0x2Adc0c94A055f1FF64A35672D30Eb523ec647816',\n",
       " '0xE7CDC4e53915D50B74496847EeBa7233caE85CE5',\n",
       " '0xe4630EaE1C2b8B30F9b4AADD355522Ec9c18bfe4',\n",
       " 0)"
      ]
     },
     "execution_count": 5,
     "metadata": {},
     "output_type": "execute_result"
    }
   ],
   "source": [
    "blocknumber = web3.eth.blockNumber - 10\n",
    "contract.functions.getReserveData(\"0xbb4CdB9CBd36B01bD1cBaEBF2De08d9173bc095c\").call(block_identifier=blocknumber)"
   ]
  },
  {
   "cell_type": "markdown",
   "metadata": {},
   "source": [
    "### 4.2. Lấy data từ **event** của contract \n",
    "*Tiếp theo mình sẽ hướng dẫn các bạn crawl dữ liệu từ các giao dịch, thông qua **event** mà các contract emit ra.*\n",
    "*Không như dữ liệu về state của blockchain chỉ được lưu của 128 block đầu, full node lưu tất cả lịch sử giao dịch của smart contract trên BSC. Tại đây, mình sẽ crawl dữ liệu của deposit event được emit từ các giao dịch của Valas tại block 21031205. Hình dưới đây là cấu trúc của event này trong ABI. Các bạn có thể kiểm tra trong `abi/lending_pool_aave_v2.json`*\n",
    "\n",
    "![image.png](../images/deposit.png)"
   ]
  },
  {
   "cell_type": "code",
   "execution_count": null,
   "metadata": {},
   "outputs": [
    {
     "data": {
      "text/plain": [
       "[{'args': {'reserve': '0x0E09FaBB73Bd3Ade0a17ECC321fD13a19e81cE82',\n",
       "   'onBehalfOf': '0x26417D19dc19a73274B4c97615b310b39017FA57',\n",
       "   'referral': 0,\n",
       "   'user': '0x26417D19dc19a73274B4c97615b310b39017FA57',\n",
       "   'amount': 1257749112692222427},\n",
       "  'event': 'Deposit',\n",
       "  'logIndex': 220,\n",
       "  'transactionIndex': 71,\n",
       "  'transactionHash': '0x0ee0f8ee33047ba977e3afd0b0995885b8d304b1aa1f1c6d307099c9ef9206e9',\n",
       "  'address': '0xE29A55A6AEFf5C8B1beedE5bCF2F0Cb3AF8F91f5',\n",
       "  'blockHash': '0x68dee16ed601595adeb352f2072879d04f288506e5dcdd44f064b4f862e6bfe4',\n",
       "  'blockNumber': 21031205}]"
      ]
     },
     "execution_count": 6,
     "metadata": {},
     "output_type": "execute_result"
    }
   ],
   "source": [
    "events = contract.events.Deposit.createFilter(fromBlock=21031205, toBlock=21031205).get_all_entries()\n",
    "event_list = []\n",
    "for event in events:\n",
    "    event_list.append(json.loads(web3.toJSON(event)))\n",
    "event_list"
   ]
  },
  {
   "cell_type": "markdown",
   "metadata": {},
   "source": [
    ">**NOTE**: Các bạn có thấy hai trường **fromBlock** và **toBlock** không? Mình có thể thay đổi hai giá trị này để  thu thập dữ liệu trong nhiều blocks nhé. Chú ý là **fromBlock** luôn nhỏ hơn **toBlock** và số  blocks tối đa có thể crawl một lần là **5000** blocks thôi. Ngoài ra có thể tham khảo trên [Web3 python docs](https://web3py.readthedocs.io/en/stable/contracts.html?highlight=createFilter#web3.contract.Contract.events.your_event_name.createFilter) để thiết lập các điều kiện lọc dữ liệu event khác theo ý thích nhé."
   ]
  },
  {
   "cell_type": "markdown",
   "metadata": {},
   "source": [
    "### 4.3. Thu thập nhiều loại dữ liệu event cùng lúc\n",
    "*Với cách trên, mọi người có thể thấy nhược điểm là mỗi lần mình chỉ có thể thu thập được một loại dữ liệu thôi. Vậy làm sao để thu thập nhiều loại dữ liệu một lúc để tránh mỗi lần thu thập lại phải quét lại những blocks đã crawl? Ta sẽ phải tự code.* \n",
    "\n",
    "*Cơ bản ta sẽ sử dụng event hash để crawl. Event hash là một chuỗi byte code được mã hóa theo chuẩn KECCAK_256 từ một chuỗi định nghĩa hàm tạo bởi cấu trúc event trong ABI (Đọc code để hiểu rõ hơn nhé - hàm **`get_topic_filter`** trong `service/utils.py`).*\n",
    "\n",
    "*Tại đây, mình cũng sẽ sẽ tách hai event là `deposit` và `borrow` trong ABI của aave tạo thành một ABI mới riêng cho hai event này tại `abi/event_abi.json`.*\n",
    "\n",
    "*Mình có xây dựng một class EthReceiptLogHandler cung cấp các functions xử lý ABI và dữ liệu event trả về. Có ba functions quan trọng mà mọi người cần chú ý đó là:* \n",
    "\n",
    "- *(1) **`build_list_info_event`** xây dựng thông tin event từ ABI. Hàm này có nhiệm vụ trả về `EventSubscriber` chứa thông tin đối sánh tên event theo event hash và thứ tự các trường dữ liệu tương ứng với dữ liệu event mà web3 trả về.*\n",
    "\n",
    "- *(2) **`web3_dict_to_receipt_log`** biến đổi dữ liệu event data trả về theo cấu trúc mà mình quy định sẵn (cài này tạo ra để mình xử lý event dễ hơn ý mà).*\n",
    "\n",
    "- *(3) **`extract_event_from_log`** đối sánh dữ liệu event trả về với `EventSubscriber` và giải mã các trường dữ liệu `topics` và `data` trong event (Muốn biến hai trường này là gì thì các bạn đọc phần tài liệu về ABI mình để ở đầu bài nhé).*\n",
    "\n",
    "- *(4) cuối cùng **`eth_event_to_dict`** chuyển đổi dữ liệu event về cấu trúc event cuối cùng (theo dictionary) lưu vào cơ sở dữ liệu (Cái này tạo ra để mình có thể lưu dữ liệu vào mongodb).*"
   ]
  },
  {
   "cell_type": "code",
   "execution_count": null,
   "metadata": {},
   "outputs": [
    {
     "data": {
      "text/plain": [
       "[[<model.receipt_log.EventSubscriber at 0x7fa20831f8e0>,\n",
       "  '0xc6a898309e823ee50bac64e45ca8adba6690e99e7841c45d754e2a38e9019d9b',\n",
       "  ['reserve', 'user', 'onBehalfOf'],\n",
       "  'Borrow'],\n",
       " [<model.receipt_log.EventSubscriber at 0x7fa1e6b84250>,\n",
       "  '0xde6857219544bb5b7746f48ed30be6386fefc61b2f864cacf559893bf50fd951',\n",
       "  ['reserve', 'user', 'onBehalfOf'],\n",
       "  'Deposit']]"
      ]
     },
     "execution_count": 7,
     "metadata": {},
     "output_type": "execute_result"
    }
   ],
   "source": [
    "from receipt_log_handler import EthReceiptLogHandler\n",
    "\n",
    "with open(\"../abi/event_abi.json\", \"r\") as f:\n",
    "    event_abi = json.loads(f.read())\n",
    "\n",
    "handler = EthReceiptLogHandler()\n",
    "# xây dựng thông tin event từ ABI.\n",
    "event_abi_info = handler.build_list_info_event(event_abi)\n",
    "event_abi_info"
   ]
  },
  {
   "cell_type": "code",
   "execution_count": null,
   "metadata": {},
   "outputs": [
    {
     "data": {
      "text/plain": [
       "['0xc6a898309e823ee50bac64e45ca8adba6690e99e7841c45d754e2a38e9019d9b',\n",
       " '0xde6857219544bb5b7746f48ed30be6386fefc61b2f864cacf559893bf50fd951']"
      ]
     },
     "execution_count": 8,
     "metadata": {},
     "output_type": "execute_result"
    }
   ],
   "source": [
    "# tách lấy event hash\n",
    "event_hash = [event_info[1] for event_info in event_abi_info]\n",
    "event_hash"
   ]
  },
  {
   "cell_type": "code",
   "execution_count": null,
   "metadata": {},
   "outputs": [
    {
     "data": {
      "text/plain": [
       "{'0xc6a898309e823ee50bac64e45ca8adba6690e99e7841c45d754e2a38e9019d9b': <model.receipt_log.EventSubscriber at 0x7fa20831f8e0>,\n",
       " '0xde6857219544bb5b7746f48ed30be6386fefc61b2f864cacf559893bf50fd951': <model.receipt_log.EventSubscriber at 0x7fa1e6b84250>}"
      ]
     },
     "execution_count": 9,
     "metadata": {},
     "output_type": "execute_result"
    }
   ],
   "source": [
    "# tách lấy event subscriber\n",
    "event_subscriber = {}\n",
    "for info in event_abi_info:\n",
    "    event_subscriber[info[1]] = info[0]\n",
    "\n",
    "event_subscriber"
   ]
  },
  {
   "cell_type": "markdown",
   "metadata": {},
   "source": [
    "*Do dữ liệu event trên blockchain vô cùng lớn và nhiểu dữ liệu từ các lending pool khác nhau, mình đã tạo một filter chỉ thu thập dữ liệu của Valas. Filter này gồm 4 điều kiện là fromBlock, toBlock, topics - danh sách event hash cần lọc (event hash lưu ở topics[0] nên mình để mảng event hash làm phần tử đầu của topics - hơi khó hiểu nhỉ, mọi người sẽ hình dung rõ hơn khi nhìn vào dữ liệu thô) và address là các địa chỉ smart contract mà mình muốn lấy event.*"
   ]
  },
  {
   "cell_type": "code",
   "execution_count": null,
   "metadata": {},
   "outputs": [
    {
     "data": {
      "text/plain": [
       "True"
      ]
     },
     "execution_count": 16,
     "metadata": {},
     "output_type": "execute_result"
    }
   ],
   "source": [
    "#create filter\n",
    "filter_params = {\n",
    "    \"fromBlock\":21043181,\n",
    "    \"toBlock\":21043646,\n",
    "    \"topics\": [event_hash],\n",
    "    \"address\":[\"0xE29A55A6AEFf5C8B1beedE5bCF2F0Cb3AF8F91f5\"]\n",
    "}\n",
    "\n",
    "# event_filter = web3.eth.filter(filter_params)\n",
    "# events = event_filter.get_all_entries()\n",
    "# event_list = []\n",
    "# for event in events:\n",
    "#     log = handler.web3_dict_to_receipt_log(event)\n",
    "#     eth_event = handler.extract_event_from_log(log, event_subscriber[log.topics[0]])\n",
    "#     if eth_event is not None:\n",
    "#         eth_event_dict = handler.eth_event_to_dict(eth_event)\n",
    "#         event_list.append(eth_event_dict)\n",
    "\n",
    "event_filter = web3.eth.filter(filter_params)\n",
    "event_logs = event_filter.get_all_entries()\n",
    "event_list = []\n",
    "for event_log in event_logs:\n",
    "    log = handler.web3_dict_to_receipt_log(event_log)\n",
    "    eth_event = handler.extract_event_from_log(log, event_subscriber[log.topics[0]])\n",
    "    if eth_event is not None:\n",
    "        eth_event_dict = handler.eth_event_to_dict(eth_event)\n",
    "        event_list.append(eth_event_dict)\n",
    "\n",
    "\n",
    "web3.eth.uninstallFilter(event_filter.filter_id)"
   ]
  },
  {
   "cell_type": "markdown",
   "metadata": {},
   "source": [
    "*Dưới đây là dữ liệu thô, trường `topics` là một mảng các phần tử nhé. Phần tử đầu tiên chính là event hash. Các phần tử còn lại sẽ là các trường dữ liệu có `index` là `true` trong cấu trúc event ở ABI.*"
   ]
  },
  {
   "cell_type": "code",
   "execution_count": null,
   "metadata": {},
   "outputs": [
    {
     "data": {
      "text/plain": [
       "[AttributeDict({'address': '0xE29A55A6AEFf5C8B1beedE5bCF2F0Cb3AF8F91f5',\n",
       "  'topics': [HexBytes('0xde6857219544bb5b7746f48ed30be6386fefc61b2f864cacf559893bf50fd951'),\n",
       "   HexBytes('0x0000000000000000000000000e09fabb73bd3ade0a17ecc321fd13a19e81ce82'),\n",
       "   HexBytes('0x0000000000000000000000007c6defb490b8ffe9379839914b4073c35ea7468a'),\n",
       "   HexBytes('0x0000000000000000000000000000000000000000000000000000000000000000')],\n",
       "  'data': '0x0000000000000000000000007c6defb490b8ffe9379839914b4073c35ea7468a0000000000000000000000000000000000000000000000058282d58b806d99f4',\n",
       "  'blockNumber': 21043181,\n",
       "  'transactionHash': HexBytes('0x4452f763a53dad9fb3a9784a2133a4a960379685d194932155fa6a7217980ad9'),\n",
       "  'transactionIndex': 149,\n",
       "  'blockHash': HexBytes('0x52ac94f0072e20b23c7bab220d8c9e3d43185cdbc62bfec962076a2de4a51912'),\n",
       "  'logIndex': 409,\n",
       "  'removed': False}),\n",
       " AttributeDict({'address': '0xE29A55A6AEFf5C8B1beedE5bCF2F0Cb3AF8F91f5',\n",
       "  'topics': [HexBytes('0xde6857219544bb5b7746f48ed30be6386fefc61b2f864cacf559893bf50fd951'),\n",
       "   HexBytes('0x000000000000000000000000e9e7cea3dedca5984780bafc599bd69add087d56'),\n",
       "   HexBytes('0x00000000000000000000000019ec9e3f7b21dd27598e7ad5aae7dc0db00a806d'),\n",
       "   HexBytes('0x0000000000000000000000000000000000000000000000000000000000000000')],\n",
       "  'data': '0x00000000000000000000000019ec9e3f7b21dd27598e7ad5aae7dc0db00a806d00000000000000000000000000000000000000000000000de185f0414836722f',\n",
       "  'blockNumber': 21043427,\n",
       "  'transactionHash': HexBytes('0xbddb09a7f95e47bcf469b26f621cb62fa050cf1f4f0cb9678352acf815a15e89'),\n",
       "  'transactionIndex': 83,\n",
       "  'blockHash': HexBytes('0xc143586eccc0a1c83910d310460d8a9032c856407b081d4207e9be5906d2ae5a'),\n",
       "  'logIndex': 169,\n",
       "  'removed': False}),\n",
       " AttributeDict({'address': '0xE29A55A6AEFf5C8B1beedE5bCF2F0Cb3AF8F91f5',\n",
       "  'topics': [HexBytes('0xde6857219544bb5b7746f48ed30be6386fefc61b2f864cacf559893bf50fd951'),\n",
       "   HexBytes('0x0000000000000000000000000e09fabb73bd3ade0a17ecc321fd13a19e81ce82'),\n",
       "   HexBytes('0x0000000000000000000000009321d5ba18a9cad47e72ddc0a9c8f59c196644a4'),\n",
       "   HexBytes('0x0000000000000000000000000000000000000000000000000000000000000000')],\n",
       "  'data': '0x0000000000000000000000009321d5ba18a9cad47e72ddc0a9c8f59c196644a40000000000000000000000000000000000000000000000843a82386542bd7208',\n",
       "  'blockNumber': 21043541,\n",
       "  'transactionHash': HexBytes('0xe1f4c0b8c315089c719d7bb55246a76228ef7eff61f4d76ce4d62303bfb7b7f4'),\n",
       "  'transactionIndex': 59,\n",
       "  'blockHash': HexBytes('0xf5378417c7a2752e6009581f14aa200682e8141f14b455fc4e0a5f2c6d72881e'),\n",
       "  'logIndex': 145,\n",
       "  'removed': False}),\n",
       " AttributeDict({'address': '0xE29A55A6AEFf5C8B1beedE5bCF2F0Cb3AF8F91f5',\n",
       "  'topics': [HexBytes('0xc6a898309e823ee50bac64e45ca8adba6690e99e7841c45d754e2a38e9019d9b'),\n",
       "   HexBytes('0x0000000000000000000000008ac76a51cc950d9822d68b83fe1ad97b32cd580d'),\n",
       "   HexBytes('0x0000000000000000000000009321d5ba18a9cad47e72ddc0a9c8f59c196644a4'),\n",
       "   HexBytes('0x0000000000000000000000000000000000000000000000000000000000000000')],\n",
       "  'data': '0x0000000000000000000000009321d5ba18a9cad47e72ddc0a9c8f59c196644a40000000000000000000000000000000000000000000001923f0fe28d7a7c03e6000000000000000000000000000000000000000000000000000000000000000200000000000000000000000000000000000000000004ff86881fdbab1ef02543',\n",
       "  'blockNumber': 21043560,\n",
       "  'transactionHash': HexBytes('0x41c77a9f7060e4223071646e0fe27635d0588fdd0143aff16ff21f87b5eec435'),\n",
       "  'transactionIndex': 76,\n",
       "  'blockHash': HexBytes('0xd10f310f3f87819093882e9c75081e632cfdcf339bff3f981b96a49f3c055528'),\n",
       "  'logIndex': 183,\n",
       "  'removed': False}),\n",
       " AttributeDict({'address': '0xE29A55A6AEFf5C8B1beedE5bCF2F0Cb3AF8F91f5',\n",
       "  'topics': [HexBytes('0xde6857219544bb5b7746f48ed30be6386fefc61b2f864cacf559893bf50fd951'),\n",
       "   HexBytes('0x0000000000000000000000000e09fabb73bd3ade0a17ecc321fd13a19e81ce82'),\n",
       "   HexBytes('0x0000000000000000000000009321d5ba18a9cad47e72ddc0a9c8f59c196644a4'),\n",
       "   HexBytes('0x0000000000000000000000000000000000000000000000000000000000000000')],\n",
       "  'data': '0x0000000000000000000000009321d5ba18a9cad47e72ddc0a9c8f59c196644a4000000000000000000000000000000000000000000000061f06a1852b37d1e91',\n",
       "  'blockNumber': 21043593,\n",
       "  'transactionHash': HexBytes('0x694e8ae6a14cb404db237212bf064be549ca346f13b5126eded0363d6d9d38e9'),\n",
       "  'transactionIndex': 124,\n",
       "  'blockHash': HexBytes('0x8598993a043163f8e648994b2d8934d653cbf00a77e0623c98a1955d785cb1f6'),\n",
       "  'logIndex': 303,\n",
       "  'removed': False}),\n",
       " AttributeDict({'address': '0xE29A55A6AEFf5C8B1beedE5bCF2F0Cb3AF8F91f5',\n",
       "  'topics': [HexBytes('0xc6a898309e823ee50bac64e45ca8adba6690e99e7841c45d754e2a38e9019d9b'),\n",
       "   HexBytes('0x0000000000000000000000008ac76a51cc950d9822d68b83fe1ad97b32cd580d'),\n",
       "   HexBytes('0x0000000000000000000000009321d5ba18a9cad47e72ddc0a9c8f59c196644a4'),\n",
       "   HexBytes('0x0000000000000000000000000000000000000000000000000000000000000000')],\n",
       "  'data': '0x0000000000000000000000009321d5ba18a9cad47e72ddc0a9c8f59c196644a400000000000000000000000000000000000000000000005150ae84a8cdf0000000000000000000000000000000000000000000000000000000000000000000020000000000000000000000000000000000000000000501421581d033d4d54dd7',\n",
       "  'blockNumber': 21043618,\n",
       "  'transactionHash': HexBytes('0xd15a93675c17a05edfbb40b7a7fd8258f761b82b533fddb3315a778ef7e2b463'),\n",
       "  'transactionIndex': 33,\n",
       "  'blockHash': HexBytes('0x0f21a45357fb355928cfb4c25b2639d819477e0adb916b66a547dceddf7b6da2'),\n",
       "  'logIndex': 134,\n",
       "  'removed': False}),\n",
       " AttributeDict({'address': '0xE29A55A6AEFf5C8B1beedE5bCF2F0Cb3AF8F91f5',\n",
       "  'topics': [HexBytes('0xde6857219544bb5b7746f48ed30be6386fefc61b2f864cacf559893bf50fd951'),\n",
       "   HexBytes('0x0000000000000000000000000e09fabb73bd3ade0a17ecc321fd13a19e81ce82'),\n",
       "   HexBytes('0x0000000000000000000000009321d5ba18a9cad47e72ddc0a9c8f59c196644a4'),\n",
       "   HexBytes('0x0000000000000000000000000000000000000000000000000000000000000000')],\n",
       "  'data': '0x0000000000000000000000009321d5ba18a9cad47e72ddc0a9c8f59c196644a4000000000000000000000000000000000000000000000013c9265746580d33e7',\n",
       "  'blockNumber': 21043646,\n",
       "  'transactionHash': HexBytes('0x81299ecc60cbcff15f0d81d28c3e3403fa205ebb4543338122b0780725ab0868'),\n",
       "  'transactionIndex': 80,\n",
       "  'blockHash': HexBytes('0x3d4410a5f868f6bad0a8335b0ba50a0d91595a1b2bcb685782a5cfc6a8f6357e'),\n",
       "  'logIndex': 228,\n",
       "  'removed': False})]"
      ]
     },
     "execution_count": 17,
     "metadata": {},
     "output_type": "execute_result"
    }
   ],
   "source": [
    "event_logs"
   ]
  },
  {
   "cell_type": "markdown",
   "metadata": {},
   "source": [
    "*Đây là dữ liệu sau cuối cùng trả về . Quá trình giải mã dữ liệu khá phức tạp nhưng mình sẽ giải thích đơn giản như sau:*\n",
    "\n",
    "*Dựa vào cấu trúc event trong ABI, mình phân loại các trường dữ liệu theo hai loại có thuộc tính **`index`** là `true` và `false`:*\n",
    "- *Với những trường dữ liệu có **`index`** là `true`, theo thứ tự của chúng trong event ABI sẽ tương ứng là các giá trị theo thứ tự trong **`topics`** (trừ `topics[0]` là event hash nhé).* \n",
    "- *Các trường dữ liệu có **index** là `false` theo thứ tự tương ứng với mỗi 32 bytes trong **`data`***\n",
    "\n",
    "*Sau khi đã xác định vị trí các trường dữ liệu, mình dựa vào thuộc tính **`type`** của chúng trong ABI để giải mã:*\n",
    "- *Nếu **`type`** là `address` mình sẽ lấy 20 bytes cuối rồi ghép với `0x`*\n",
    "- *Còn **`type`** là `uint` mình sẽ quy đổi giá trị từ thập lục phân sang thập phân.*\n",
    "\n",
    "(Bạn nào chưa hiểu thì đọc code mình để dễ hiểu hơn nhé, hoặc đọc [document về Event Log Filter](https://web3py.readthedocs.io/en/stable/filters.html?highlight=get_transaction#event-log-filters)).\n",
    "\n",
    "*Dưới đây là dữ liệu cuối cùng thu được.*"
   ]
  },
  {
   "cell_type": "code",
   "execution_count": null,
   "metadata": {},
   "outputs": [
    {
     "data": {
      "text/plain": [
       "[{'type': 'event',\n",
       "  'event_type': 'DEPOSIT',\n",
       "  'contract_address': '0xe29a55a6aeff5c8b1beede5bcf2f0cb3af8f91f5',\n",
       "  'transaction_hash': '0x4452f763a53dad9fb3a9784a2133a4a960379685d194932155fa6a7217980ad9',\n",
       "  'log_index': 409,\n",
       "  'block_number': 21043181,\n",
       "  'reserve': '0x0e09fabb73bd3ade0a17ecc321fd13a19e81ce82',\n",
       "  'onBehalfOf': '0x7c6defb490b8ffe9379839914b4073c35ea7468a',\n",
       "  'referral': '0',\n",
       "  'user': '0x7c6defb490b8ffe9379839914b4073c35ea7468a',\n",
       "  'amount': '101638034135582611956'},\n",
       " {'type': 'event',\n",
       "  'event_type': 'DEPOSIT',\n",
       "  'contract_address': '0xe29a55a6aeff5c8b1beede5bcf2f0cb3af8f91f5',\n",
       "  'transaction_hash': '0xbddb09a7f95e47bcf469b26f621cb62fa050cf1f4f0cb9678352acf815a15e89',\n",
       "  'log_index': 169,\n",
       "  'block_number': 21043427,\n",
       "  'reserve': '0xe9e7cea3dedca5984780bafc599bd69add087d56',\n",
       "  'onBehalfOf': '0x19ec9e3f7b21dd27598e7ad5aae7dc0db00a806d',\n",
       "  'referral': '0',\n",
       "  'user': '0x19ec9e3f7b21dd27598e7ad5aae7dc0db00a806d',\n",
       "  'amount': '256058331951835542063'},\n",
       " {'type': 'event',\n",
       "  'event_type': 'DEPOSIT',\n",
       "  'contract_address': '0xe29a55a6aeff5c8b1beede5bcf2f0cb3af8f91f5',\n",
       "  'transaction_hash': '0xe1f4c0b8c315089c719d7bb55246a76228ef7eff61f4d76ce4d62303bfb7b7f4',\n",
       "  'log_index': 145,\n",
       "  'block_number': 21043541,\n",
       "  'reserve': '0x0e09fabb73bd3ade0a17ecc321fd13a19e81ce82',\n",
       "  'onBehalfOf': '0x9321d5ba18a9cad47e72ddc0a9c8f59c196644a4',\n",
       "  'referral': '0',\n",
       "  'user': '0x9321d5ba18a9cad47e72ddc0a9c8f59c196644a4',\n",
       "  'amount': '2439186211938395582984'},\n",
       " {'type': 'event',\n",
       "  'event_type': 'BORROW',\n",
       "  'contract_address': '0xe29a55a6aeff5c8b1beede5bcf2f0cb3af8f91f5',\n",
       "  'transaction_hash': '0x41c77a9f7060e4223071646e0fe27635d0588fdd0143aff16ff21f87b5eec435',\n",
       "  'log_index': 183,\n",
       "  'block_number': 21043560,\n",
       "  'reserve': '0x8ac76a51cc950d9822d68b83fe1ad97b32cd580d',\n",
       "  'onBehalfOf': '0x9321d5ba18a9cad47e72ddc0a9c8f59c196644a4',\n",
       "  'referral': '0',\n",
       "  'user': '0x9321d5ba18a9cad47e72ddc0a9c8f59c196644a4',\n",
       "  'amount': '7420135217277553083366',\n",
       "  'borrowRateMode': '2',\n",
       "  'borrowRate': '6042388404096194749408579'},\n",
       " {'type': 'event',\n",
       "  'event_type': 'DEPOSIT',\n",
       "  'contract_address': '0xe29a55a6aeff5c8b1beede5bcf2f0cb3af8f91f5',\n",
       "  'transaction_hash': '0x694e8ae6a14cb404db237212bf064be549ca346f13b5126eded0363d6d9d38e9',\n",
       "  'log_index': 303,\n",
       "  'block_number': 21043593,\n",
       "  'reserve': '0x0e09fabb73bd3ade0a17ecc321fd13a19e81ce82',\n",
       "  'onBehalfOf': '0x9321d5ba18a9cad47e72ddc0a9c8f59c196644a4',\n",
       "  'referral': '0',\n",
       "  'user': '0x9321d5ba18a9cad47e72ddc0a9c8f59c196644a4',\n",
       "  'amount': '1806657860809938247313'},\n",
       " {'type': 'event',\n",
       "  'event_type': 'BORROW',\n",
       "  'contract_address': '0xe29a55a6aeff5c8b1beede5bcf2f0cb3af8f91f5',\n",
       "  'transaction_hash': '0xd15a93675c17a05edfbb40b7a7fd8258f761b82b533fddb3315a778ef7e2b463',\n",
       "  'log_index': 134,\n",
       "  'block_number': 21043618,\n",
       "  'reserve': '0x8ac76a51cc950d9822d68b83fe1ad97b32cd580d',\n",
       "  'onBehalfOf': '0x9321d5ba18a9cad47e72ddc0a9c8f59c196644a4',\n",
       "  'referral': '0',\n",
       "  'user': '0x9321d5ba18a9cad47e72ddc0a9c8f59c196644a4',\n",
       "  'amount': '1500000000000000000000',\n",
       "  'borrowRateMode': '2',\n",
       "  'borrowRate': '6050570499413548173970903'},\n",
       " {'type': 'event',\n",
       "  'event_type': 'DEPOSIT',\n",
       "  'contract_address': '0xe29a55a6aeff5c8b1beede5bcf2f0cb3af8f91f5',\n",
       "  'transaction_hash': '0x81299ecc60cbcff15f0d81d28c3e3403fa205ebb4543338122b0780725ab0868',\n",
       "  'log_index': 228,\n",
       "  'block_number': 21043646,\n",
       "  'reserve': '0x0e09fabb73bd3ade0a17ecc321fd13a19e81ce82',\n",
       "  'onBehalfOf': '0x9321d5ba18a9cad47e72ddc0a9c8f59c196644a4',\n",
       "  'referral': '0',\n",
       "  'user': '0x9321d5ba18a9cad47e72ddc0a9c8f59c196644a4',\n",
       "  'amount': '364982505810856588263'}]"
      ]
     },
     "execution_count": 18,
     "metadata": {},
     "output_type": "execute_result"
    }
   ],
   "source": [
    "event_list"
   ]
  },
  {
   "cell_type": "markdown",
   "metadata": {},
   "source": [
    "#### Thu thập transaction sinh ra deposit event\n",
    "*Mọi người có thể thấy trong dữ liệu block và dữ liệu event đều có một trường `transaction_hash`. Dựa vào nó ta có thể thu thập dữ liệu transaction mình mong muốn. Dưới đây là dữ liệu từ transaction hash của deposit event của block 21031205.*"
   ]
  },
  {
   "cell_type": "code",
   "execution_count": null,
   "metadata": {},
   "outputs": [
    {
     "data": {
      "text/plain": [
       "AttributeDict({'blockHash': HexBytes('0x68dee16ed601595adeb352f2072879d04f288506e5dcdd44f064b4f862e6bfe4'),\n",
       " 'blockNumber': 21031205,\n",
       " 'from': '0x26417D19dc19a73274B4c97615b310b39017FA57',\n",
       " 'gas': 752442,\n",
       " 'gasPrice': 5000000000,\n",
       " 'hash': HexBytes('0x0ee0f8ee33047ba977e3afd0b0995885b8d304b1aa1f1c6d307099c9ef9206e9'),\n",
       " 'input': '0xe8eda9df0000000000000000000000000e09fabb73bd3ade0a17ecc321fd13a19e81ce8200000000000000000000000000000000000000000000000011746c27769529db00000000000000000000000026417d19dc19a73274b4c97615b310b39017fa570000000000000000000000000000000000000000000000000000000000000000',\n",
       " 'nonce': 476,\n",
       " 'to': '0xE29A55A6AEFf5C8B1beedE5bCF2F0Cb3AF8F91f5',\n",
       " 'transactionIndex': 71,\n",
       " 'value': 0,\n",
       " 'type': '0x0',\n",
       " 'v': 148,\n",
       " 'r': HexBytes('0xedf56947061ff71ad62dfded9fb7ba19fc271d6f52d8df2a207d405ca473da87'),\n",
       " 's': HexBytes('0x34ce34ec26f2a48cc85ba8a759333dd59b6d106597c32039ddc2e9aa942773c8')})"
      ]
     },
     "execution_count": 13,
     "metadata": {},
     "output_type": "execute_result"
    }
   ],
   "source": [
    "web3.eth.get_transaction(\"0x0ee0f8ee33047ba977e3afd0b0995885b8d304b1aa1f1c6d307099c9ef9206e9\")"
   ]
  },
  {
   "cell_type": "markdown",
   "metadata": {},
   "source": [
    "> Note: Đến đây mọi người có thể thắc mắc là thế với một list các transaction hash thì sao? Rất tiếc hiện tại mình chưa thấy hàm nào của web3 py hỗ trợ hoặc có thể do mình tìm chưa kỹ. Tuy nhiên ta có thể cải tiến quá trình bằng cách lấy dữ liệu theo lô (batch) với đa luồng (multi-processing). Kiến thức này hơi nâng cao, mình sẽ hướng dẫn ở một bài thực hành khác phức tạp hơn."
   ]
  },
  {
   "cell_type": "markdown",
   "metadata": {},
   "source": [
    "## Xây dựng thu thập dữ liệu một luồng liên tục\n",
    "*Phần này bonus cho mọi người. Mọi người có thể đọc tiếp hoặc bỏ qua. Nói chung, nó chỉ tổng hợp lại những kiến thức ở trên để xây dựng một con crawler thu thập dữ liệu event liên tục.*"
   ]
  },
  {
   "cell_type": "code",
   "execution_count": null,
   "metadata": {},
   "outputs": [],
   "source": [
    "from receipt_log_handler import EthReceiptLogHandler\n",
    "\n",
    "def craw_events(\n",
    "    web3, \n",
    "    from_block=0, \n",
    "    to_block=None, \n",
    "    event_abi_file=\"../abi/event_abi.json\", \n",
    "    contract_addresses=[\"0xE29A55A6AEFf5C8B1beedE5bCF2F0Cb3AF8F91f5\"],\n",
    "    block_size=100,\n",
    "    stop = False\n",
    "):\n",
    "    latest_block = web3.eth.blockNumber\n",
    "    if to_block and to_block > latest_block:\n",
    "        to_block=latest_block\n",
    "        print(f\"To_block > latest_block, set to_block = {latest_block}\")\n",
    "    with open(event_abi_file, \"r\") as f:\n",
    "        event_abi = json.loads(f.read())\n",
    "\n",
    "    handler = EthReceiptLogHandler()\n",
    "    # xây dựng thông tin event từ ABI.\n",
    "    event_abi_info = handler.build_list_info_event(event_abi)\n",
    "    # lấy event hash\n",
    "    event_hash = [event_info[1] for event_info in event_abi_info]\n",
    "    # tách lấy event subscriber\n",
    "    event_subscriber = {}\n",
    "    for info in event_abi_info:\n",
    "        event_subscriber[info[1]] = info[0]\n",
    "    \n",
    "    if not to_block:\n",
    "        to_block = web3.eth.blockNumber\n",
    "    \n",
    "    _from = from_block\n",
    "    _to = from_block + block_size\n",
    "    \n",
    "    while True:\n",
    "        if _to > to_block:\n",
    "            _to = to_block\n",
    "                \n",
    "        print(f\"Start crawling data from {_from} to {_to}\")\n",
    "        #create filter\n",
    "        filter_params = {\n",
    "            \"fromBlock\":_from,\n",
    "            \"toBlock\":_to,\n",
    "            \"topics\": [event_hash],\n",
    "            \"address\":contract_addresses\n",
    "        }\n",
    "\n",
    "        event_filter = web3.eth.filter(filter_params)\n",
    "        events = event_filter.get_all_entries()\n",
    "        event_list = []\n",
    "        for event in events:\n",
    "            log = handler.web3_dict_to_receipt_log(event)\n",
    "            eth_event = handler.extract_event_from_log(log, event_subscriber[log.topics[0]])\n",
    "            if eth_event is not None:\n",
    "                eth_event_dict = handler.eth_event_to_dict(eth_event)\n",
    "                print(\"Event data:\\n\", eth_event_dict)\n",
    "\n",
    "        web3.eth.uninstallFilter(event_filter.filter_id)\n",
    "        if _to == to_block:\n",
    "            if stop:\n",
    "                print(\"Stop crawling data...\")\n",
    "                break\n",
    "            else:\n",
    "                to_block = web3.eth.blockNumber\n",
    "                print(f\"Get latest block {to_block}\")\n",
    "        \n",
    "        \n",
    "        _from = _to\n",
    "        _to += block_size"
   ]
  },
  {
   "cell_type": "markdown",
   "metadata": {},
   "source": [
    "*Mọi người có thể đặt biến `stop = False` để cho chạy liên tục. Có thể sửa hàm để xuất dữ liệu ra file*"
   ]
  },
  {
   "cell_type": "code",
   "execution_count": null,
   "metadata": {},
   "outputs": [
    {
     "name": "stdout",
     "output_type": "stream",
     "text": [
      "Start crawling data from 21042695 to 21042795\n",
      "Start crawling data from 21042795 to 21042895\n",
      "Start crawling data from 21042895 to 21042995\n",
      "Event data:\n",
      " {'type': 'event', 'event_type': 'DEPOSIT', 'contract_address': '0xe29a55a6aeff5c8b1beede5bcf2f0cb3af8f91f5', 'transaction_hash': '0x9d7f541831a499d00815147057d593cb4894cb3c74cd1c267714378dd808fe96', 'log_index': 148, 'block_number': 21042985, 'reserve': '0x8ac76a51cc950d9822d68b83fe1ad97b32cd580d', 'onBehalfOf': '0x19ec9e3f7b21dd27598e7ad5aae7dc0db00a806d', 'referral': '0', 'user': '0x19ec9e3f7b21dd27598e7ad5aae7dc0db00a806d', 'amount': '1736000000000000000000'}\n",
      "Start crawling data from 21042995 to 21043095\n",
      "Start crawling data from 21043095 to 21043195\n",
      "Event data:\n",
      " {'type': 'event', 'event_type': 'DEPOSIT', 'contract_address': '0xe29a55a6aeff5c8b1beede5bcf2f0cb3af8f91f5', 'transaction_hash': '0x4452f763a53dad9fb3a9784a2133a4a960379685d194932155fa6a7217980ad9', 'log_index': 409, 'block_number': 21043181, 'reserve': '0x0e09fabb73bd3ade0a17ecc321fd13a19e81ce82', 'onBehalfOf': '0x7c6defb490b8ffe9379839914b4073c35ea7468a', 'referral': '0', 'user': '0x7c6defb490b8ffe9379839914b4073c35ea7468a', 'amount': '101638034135582611956'}\n",
      "Start crawling data from 21043195 to 21043295\n",
      "Start crawling data from 21043295 to 21043395\n",
      "Start crawling data from 21043395 to 21043495\n",
      "Event data:\n",
      " {'type': 'event', 'event_type': 'DEPOSIT', 'contract_address': '0xe29a55a6aeff5c8b1beede5bcf2f0cb3af8f91f5', 'transaction_hash': '0xbddb09a7f95e47bcf469b26f621cb62fa050cf1f4f0cb9678352acf815a15e89', 'log_index': 169, 'block_number': 21043427, 'reserve': '0xe9e7cea3dedca5984780bafc599bd69add087d56', 'onBehalfOf': '0x19ec9e3f7b21dd27598e7ad5aae7dc0db00a806d', 'referral': '0', 'user': '0x19ec9e3f7b21dd27598e7ad5aae7dc0db00a806d', 'amount': '256058331951835542063'}\n",
      "Start crawling data from 21043495 to 21043595\n",
      "Event data:\n",
      " {'type': 'event', 'event_type': 'DEPOSIT', 'contract_address': '0xe29a55a6aeff5c8b1beede5bcf2f0cb3af8f91f5', 'transaction_hash': '0xe1f4c0b8c315089c719d7bb55246a76228ef7eff61f4d76ce4d62303bfb7b7f4', 'log_index': 145, 'block_number': 21043541, 'reserve': '0x0e09fabb73bd3ade0a17ecc321fd13a19e81ce82', 'onBehalfOf': '0x9321d5ba18a9cad47e72ddc0a9c8f59c196644a4', 'referral': '0', 'user': '0x9321d5ba18a9cad47e72ddc0a9c8f59c196644a4', 'amount': '2439186211938395582984'}\n",
      "Event data:\n",
      " {'type': 'event', 'event_type': 'BORROW', 'contract_address': '0xe29a55a6aeff5c8b1beede5bcf2f0cb3af8f91f5', 'transaction_hash': '0x41c77a9f7060e4223071646e0fe27635d0588fdd0143aff16ff21f87b5eec435', 'log_index': 183, 'block_number': 21043560, 'reserve': '0x8ac76a51cc950d9822d68b83fe1ad97b32cd580d', 'onBehalfOf': '0x9321d5ba18a9cad47e72ddc0a9c8f59c196644a4', 'referral': '0', 'user': '0x9321d5ba18a9cad47e72ddc0a9c8f59c196644a4', 'amount': '7420135217277553083366', 'borrowRateMode': '2', 'borrowRate': '6042388404096194749408579'}\n",
      "Event data:\n",
      " {'type': 'event', 'event_type': 'DEPOSIT', 'contract_address': '0xe29a55a6aeff5c8b1beede5bcf2f0cb3af8f91f5', 'transaction_hash': '0x694e8ae6a14cb404db237212bf064be549ca346f13b5126eded0363d6d9d38e9', 'log_index': 303, 'block_number': 21043593, 'reserve': '0x0e09fabb73bd3ade0a17ecc321fd13a19e81ce82', 'onBehalfOf': '0x9321d5ba18a9cad47e72ddc0a9c8f59c196644a4', 'referral': '0', 'user': '0x9321d5ba18a9cad47e72ddc0a9c8f59c196644a4', 'amount': '1806657860809938247313'}\n",
      "Start crawling data from 21043595 to 21043695\n",
      "Event data:\n",
      " {'type': 'event', 'event_type': 'BORROW', 'contract_address': '0xe29a55a6aeff5c8b1beede5bcf2f0cb3af8f91f5', 'transaction_hash': '0xd15a93675c17a05edfbb40b7a7fd8258f761b82b533fddb3315a778ef7e2b463', 'log_index': 134, 'block_number': 21043618, 'reserve': '0x8ac76a51cc950d9822d68b83fe1ad97b32cd580d', 'onBehalfOf': '0x9321d5ba18a9cad47e72ddc0a9c8f59c196644a4', 'referral': '0', 'user': '0x9321d5ba18a9cad47e72ddc0a9c8f59c196644a4', 'amount': '1500000000000000000000', 'borrowRateMode': '2', 'borrowRate': '6050570499413548173970903'}\n",
      "Event data:\n",
      " {'type': 'event', 'event_type': 'DEPOSIT', 'contract_address': '0xe29a55a6aeff5c8b1beede5bcf2f0cb3af8f91f5', 'transaction_hash': '0x81299ecc60cbcff15f0d81d28c3e3403fa205ebb4543338122b0780725ab0868', 'log_index': 228, 'block_number': 21043646, 'reserve': '0x0e09fabb73bd3ade0a17ecc321fd13a19e81ce82', 'onBehalfOf': '0x9321d5ba18a9cad47e72ddc0a9c8f59c196644a4', 'referral': '0', 'user': '0x9321d5ba18a9cad47e72ddc0a9c8f59c196644a4', 'amount': '364982505810856588263'}\n",
      "Stop crawling data...\n"
     ]
    }
   ],
   "source": [
    "craw_events(\n",
    "    web3, \n",
    "    from_block=21042695, \n",
    "    to_block=21043695,\n",
    "    event_abi_file=\"../abi/event_abi.json\", \n",
    "    contract_addresses=[\"0xE29A55A6AEFf5C8B1beedE5bCF2F0Cb3AF8F91f5\"],\n",
    "    block_size=100,\n",
    "    stop = True\n",
    ")"
   ]
  },
  {
   "cell_type": "markdown",
   "metadata": {},
   "source": [
    "# BTVN\n",
    "\n",
    "Chú ý: Tất cả dữ liệu crawl được lưu vào file json, theo format trong thư mục ```btvn_examples```\n",
    "\n",
    "## Chung\n",
    "1. Tính số transaction trung bình mỗi block của 100 blocks mới nhất.\n",
    "2. Cho địa chỉ token `0x7083609fCE4d1d8Dc0C979AAb8c869Ea2C873402`, dựa vào địa chỉ token và ERC_20 abi trong `abi/erc_20.json` thực hiện các nhiệm vụ sau:<br>\n",
    "    a. Thu thập Transfer event của token đó trong 1000 blocks gần nhất. <br>\n",
    "    b. Tìm decimals của token.<br>\n",
    "    c. Tính lượng cung (supply) của token đó. <br>\n",
    "    d. Tính số dư (balance) token mới nhất của một địa chỉ ví thực hiện nhiều Transfer event nhất trong tập dữ liệu Transfer event đã crawl (gợi ý: địa chỉ này nằm trong trường `_from` của event). <br>\n",
    "    e. Tính số dư token mới nhất trong địa chỉ ví là địa chỉ ví nhận trong nhiều Transfer event nhất trong tập dữ liệu Transfer event đã crawl (gợi ý: địa chỉ này nằm trong trường `_to` của event). <br>\n",
    "    f. Tìm ký hiệu (symbol) và tên (name) của token.\n",
    "\n",
    "Chú ý: Ngoài thông tin trả lời, cần ghi rõ lại start - end block mà mình thu thập dữ liệu, địa chỉ token và ví thu thập. Các giá trị lượng cung và số dư phải chia cho decimals của token.\n",
    "\n",
    "## AAVE Team\n",
    "Làm lại các bước trong bài thực hành trên với [Geist protocol](https://docs.geist.finance/useful-info/deployments-addresses) là một lending pool tương tự như Valas trên mạng Fantom. Ngoài ra, thực hiện thêm một số bước sau. (Đọc chú ý phía dưới trước khi làm)\n",
    "1. Crawl dữ liệu event theo 5 loại: Deposit, Borrow, Withdraw, Repay và Liquidate trong 100.000 blocks gần nhất.\n",
    "2. Crawl dữ liệu transaction của những event đã crawl. \n",
    "3. Lấy thông tin địa chỉ token được thực hiện giao dịch Deposit và Borrow nhiều nhất (gợi ý: địa chỉ token nằm trong trường `reserve` trong event, nếu số event của các token bằng nhau thì lấy token bất kỳ)\n",
    "4. Lấy thông tin địa chỉ thực hiện transaction nhiều nhất trong lending pool (gợi ý: địa chỉ ví nằm trong trường `from` của dữ liệu transaction, nếu số transaction của các địa chỉ bằng nhau thì lấy địa chỉ bất kỳ).\n",
    "5. Dựa vào địa chỉ Oracle ([Aave oracle](https://docs.geist.finance/useful-info/deployments-addresses)) và `abi/oracle_abi.json` tìm giá (asset price) của token ở câu 3.\n",
    "\n",
    "Chú ý: Các hàm lấy dữ liệu đã có trong `abi/lending_pool_aave_v2.json`. Dựa vào cấu trúc dữ liệu trả về trong abi, chỉ ra ý nghĩa của từng trường dữ liệu crawl về trong câu 3,4.\n",
    "\n",
    "## Uniswap Team\n",
    "Dựa vào masterchef V2 [address](https://docs.pancakeswap.finance/code/smart-contracts/main-staking-masterchef-contract), `abi/masterchef_abi.json` và pid = 3 của pancakeswap (tương tự như uniswap) trên bsc. Thực hiện các nhiệm vụ sau. (Đọc chú ý trước khi làm)\n",
    "\n",
    "1. Lâý thông tin của lp_token từ id (gợi ý: một lp_token cũng tương tự như một pool, vậy nên lấy thông tin lp_token có thể thay bằng lấy thông tin của pool).\n",
    "2. Tìm địa chỉ lp_token.\n",
    "3. Dựa vào `abi/lp_token_abi.json` và địa chỉ lp_token tìm được lấy địa chỉ cặp swap và thông tin về reserves của cặp swap, từ địa chỉ lp_token và abi `abi/lp_token_abi.json`.\n",
    "4. Crawl dữ liệu event Swap, Approval, Burn, Mint và Transfer của lp_token trong 1000 blocks gần nhất với ABI `abi/lp_token_abi.json`.\n",
    "5. Crawl dữ liệu transaction tương ứng với dữ liệu events.\n",
    "6. Tìm user giao dịch nhiều nhất (gợi ý: địa chỉ user là trường `from` trong transaction)\n",
    "7. Tìm thông tin của user ở câu 6 dựa trên địa chỉ masterchef và abi `abi/masterchef_abi.json`.\n",
    "\n",
    "Chú ý: Dựa vào cấu trúc dữ liệu trả về trong abi, chỉ ra ý nghĩa của từng trường dữ liệu crawl về trong câu 1,7."
   ]
  }
 ],
 "metadata": {
  "kernelspec": {
   "display_name": "Python 3 (ipykernel)",
   "language": "python",
   "name": "python3"
  },
  "language_info": {
   "codemirror_mode": {
    "name": "ipython",
    "version": 3
   },
   "file_extension": ".py",
   "mimetype": "text/x-python",
   "name": "python",
   "nbconvert_exporter": "python",
   "pygments_lexer": "ipython3",
   "version": "3.10.6"
  }
 },
 "nbformat": 4,
 "nbformat_minor": 4
}
