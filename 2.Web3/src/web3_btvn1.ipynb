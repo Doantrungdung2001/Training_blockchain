{
 "cells": [
  {
   "attachments": {},
   "cell_type": "markdown",
   "metadata": {},
   "source": [
    "# BÀI TẬP VỀ NHÀ."
   ]
  },
  {
   "attachments": {},
   "cell_type": "markdown",
   "metadata": {},
   "source": [
    "## Bài tập số 1 (Chung)"
   ]
  },
  {
   "cell_type": "code",
   "execution_count": 1,
   "metadata": {
    "vscode": {
     "languageId": "python"
    }
   },
   "outputs": [
    {
     "name": "stdout",
     "output_type": "stream",
     "text": [
      "Success?: True\n"
     ]
    }
   ],
   "source": [
    "from web3 import HTTPProvider\n",
    "from web3 import Web3\n",
    "from web3.middleware import geth_poa_middleware\n",
    "import json\n",
    "import operator\n",
    "\n",
    "provider_url = \"https://bsc-dataseed4.binance.org/\"\n",
    "web3 = Web3(HTTPProvider(provider_url))\n",
    "web3.middleware_onion.inject(geth_poa_middleware, layer=0)\n",
    "\n",
    "print(f\"Success?: {web3.isConnected()}\")\n",
    "\n",
    "NUM_BLOCKS_1 = 100\n",
    "NUM_BLOCKS_2 = 1000"
   ]
  },
  {
   "attachments": {},
   "cell_type": "markdown",
   "metadata": {},
   "source": [
    "### 1.Tính số transaction trung bình mỗi block của 100 blocks mới nhất"
   ]
  },
  {
   "cell_type": "code",
   "execution_count": 2,
   "metadata": {
    "vscode": {
     "languageId": "python"
    }
   },
   "outputs": [
    {
     "name": "stdout",
     "output_type": "stream",
     "text": [
      "Block 0 done\n",
      "Block 10 done\n",
      "Block 20 done\n",
      "Block 30 done\n",
      "Block 40 done\n",
      "Block 50 done\n",
      "Block 60 done\n",
      "Block 70 done\n",
      "Block 80 done\n",
      "Block 90 done\n"
     ]
    }
   ],
   "source": [
    "latest_block = web3.eth.block_number\n",
    "num_txs = 0\n",
    "for i in range(NUM_BLOCKS_1):\n",
    "    block_txs = web3.eth.get_block_transaction_count(latest_block - i) \n",
    "    num_txs += block_txs\n",
    "    # print each 10th block to track the progress\n",
    "    if i % 10 == 0:\n",
    "        print(f\"Block {i} done\")\n",
    "avg_txs = num_txs / NUM_BLOCKS_1\n",
    "\n",
    "result = {\n",
    "    'fromBlock': latest_block - NUM_BLOCKS_1 + 1,\n",
    "    'toBlock': latest_block,\n",
    "    'averageTransactions': avg_txs\n",
    "}\n",
    "json_obj = json.dumps(result, indent=2)\n",
    "with open('./Dap_an/genernal/genernal.json', 'w') as f:\n",
    "    f.write(json_obj)"
   ]
  },
  {
   "attachments": {},
   "cell_type": "markdown",
   "metadata": {},
   "source": [
    "### 2. Cho địa chỉ token `0x7083609fCE4d1d8Dc0C979AAb8c869Ea2C873402`, dựa vào địa chỉ token và ERC_20 abi trong `abi/erc_20.json` \n",
    "Thực hiện các nhiệm vụ sau:<br>\n",
    "    a. Thu thập Transfer event của token đó trong 1000 blocks gần nhất. <br>\n",
    "    b. Tìm decimals của token.<br>\n",
    "    c. Tính lượng cung (supply) của token đó. <br>\n",
    "    d. Tính số dư (balance) token mới nhất của một địa chỉ ví thực hiện nhiều Transfer event nhất trong tập dữ liệu Transfer event đã crawl (gợi ý: địa chỉ này nằm trong trường `_from` của event). <br>\n",
    "    e. Tính số dư token mới nhất trong địa chỉ ví là địa chỉ ví nhận trong nhiều Transfer event nhất trong tập dữ liệu Transfer event đã crawl (gợi ý: địa chỉ này nằm trong trường `_to` của event). <br>\n",
    "    f. Tìm ký hiệu (symbol) và tên (name) của token.\n",
    "\n",
    "Chú ý: Ngoài thông tin trả lời, cần ghi rõ lại start - end block mà mình thu thập dữ liệu, địa chỉ token và ví thu thập. Các giá trị lượng cung và số dư phải chia cho decimals của token."
   ]
  },
  {
   "cell_type": "code",
   "execution_count": 3,
   "metadata": {
    "vscode": {
     "languageId": "python"
    }
   },
   "outputs": [
    {
     "name": "stdout",
     "output_type": "stream",
     "text": [
      "Start block : 27847147; End block : 27848146\n"
     ]
    }
   ],
   "source": [
    "#lấy cấu trúc dữ liệu của abi\n",
    "with open(\"../abi/erc_20.json\", \"r\") as f:\n",
    "    abi = json.loads(f.read())\n",
    "#Địa chỉ của valas  \n",
    "token_address = \"0x7083609fCE4d1d8Dc0C979AAb8c869Ea2C873402\"\n",
    "# Kiểm tra xem địa chỉ có đúng không\n",
    "if not web3.isAddress(token_address):\n",
    "    address = web3.toChecksumAddress(token_address)\n",
    "#Sử dụng web3 thiết lập đối tượng contract để sử dụng các phương thức\n",
    "contract = web3.eth.contract(abi=abi, address=token_address)\n",
    "latest_block = web3.eth.blockNumber\n",
    "start_block = latest_block - NUM_BLOCKS_2 + 1\n",
    "end_block = latest_block\n",
    "block_info = {\n",
    "    'startBlock' : start_block,\n",
    "    'endBlock' : end_block\n",
    "}\n",
    "print(f\"Start block : {start_block}; End block : {end_block}\")"
   ]
  },
  {
   "attachments": {},
   "cell_type": "markdown",
   "metadata": {},
   "source": [
    "#### a.Thu thập Transfer event của token đó trong 1000 blocks gần nhất"
   ]
  },
  {
   "cell_type": "code",
   "execution_count": 4,
   "metadata": {
    "vscode": {
     "languageId": "python"
    }
   },
   "outputs": [],
   "source": [
    "transfer_events = contract.events.Transfer.createFilter(\n",
    "    fromBlock = start_block , toBlock = end_block).get_all_entries()\n",
    "transfers = list()\n",
    "for event in transfer_events:\n",
    "    transfers.append(json.loads(Web3.toJSON(event)))\n",
    "\n",
    "result = dict()\n",
    "result['blocksInfo'] = block_info\n",
    "result['transferEvents'] = transfers\n",
    "json_obj = json.dumps(result , indent = 2)\n",
    "with open('./Dap_an/genernal/genernal2a.json', 'w') as f:\n",
    "    f.write(json_obj)"
   ]
  },
  {
   "attachments": {},
   "cell_type": "markdown",
   "metadata": {},
   "source": [
    "#### b.Tìm decimals của token"
   ]
  },
  {
   "cell_type": "code",
   "execution_count": 5,
   "metadata": {
    "vscode": {
     "languageId": "python"
    }
   },
   "outputs": [
    {
     "name": "stdout",
     "output_type": "stream",
     "text": [
      "Token decimals : 18\n"
     ]
    }
   ],
   "source": [
    "decimals = contract.functions.decimals().call()\n",
    "print(f\"Token decimals : {decimals}\")\n",
    "\n",
    "result = {\n",
    "    'decimals' : decimals,\n",
    "}\n",
    "json_obj = json.dumps(result,indent = 2)\n",
    "with open('./Dap_an/genernal/genernal2b.json' , 'w') as f:\n",
    "    f.write(json_obj)"
   ]
  },
  {
   "attachments": {},
   "cell_type": "markdown",
   "metadata": {},
   "source": [
    "#### c.Tính lượng cung (supply) của token đó."
   ]
  },
  {
   "cell_type": "code",
   "execution_count": 6,
   "metadata": {
    "vscode": {
     "languageId": "python"
    }
   },
   "outputs": [
    {
     "name": "stdout",
     "output_type": "stream",
     "text": [
      "Token supply : 15999999991309562546802105\n"
     ]
    }
   ],
   "source": [
    "token_total_supply = contract.functions.totalSupply().call()\n",
    "print(f\"Token supply : {token_total_supply}\")\n",
    "\n",
    "result = {\n",
    "    'totalSupply' : token_total_supply,\n",
    "}\n",
    "\n",
    "json_obj = json.dumps(result, indent=2)\n",
    "with open('./Dap_an/genernal/genernal2c.json', 'w') as f:\n",
    "    f.write(json_obj)"
   ]
  },
  {
   "attachments": {},
   "cell_type": "markdown",
   "metadata": {},
   "source": [
    "#### d.Tính số dư (balance) token mới nhất của một địa chỉ ví thực hiện nhiều Transfer event nhất trong tập dữ liệu Transfer event đã crawl (gợi ý: địa chỉ này nằm trong trường `_from` của event)."
   ]
  },
  {
   "cell_type": "code",
   "execution_count": 7,
   "metadata": {
    "vscode": {
     "languageId": "python"
    }
   },
   "outputs": [
    {
     "name": "stdout",
     "output_type": "stream",
     "text": [
      "Most transactions from 0xDd5bAd8f8b360d76d12FdA230F8BAF42fe0022CF with balance: 325223.6235284337\n"
     ]
    }
   ],
   "source": [
    "from_wallet_transfers = dict()\n",
    "for transfer in transfers:\n",
    "    from_wallet = transfer['args']['from']\n",
    "    if from_wallet not in from_wallet_transfers:\n",
    "        from_wallet_transfers[from_wallet] = 1\n",
    "    else:\n",
    "        from_wallet_transfers[from_wallet] += 1\n",
    "# max from_wallet addr\n",
    "max_from_wallet, max_frequency = max(from_wallet_transfers.items(), key=operator.itemgetter(1))\n",
    "balance = contract.functions.balanceOf(max_from_wallet).call() / 10**decimals\n",
    "\n",
    "print(f\"Most transactions from {max_from_wallet} with balance: {balance}\")\n",
    "\n",
    "result = dict()\n",
    "result['blocksInfo'] = block_info\n",
    "result.update({\n",
    "    'wallet': max_from_wallet,\n",
    "    'maxFrequency': max_frequency,\n",
    "    'balance': balance\n",
    "})\n",
    "json_obj = json.dumps(result, indent=2)\n",
    "with open('./Dap_an/genernal/genernal2d.json', 'w') as f:\n",
    "    f.write(json_obj)"
   ]
  },
  {
   "attachments": {},
   "cell_type": "markdown",
   "metadata": {},
   "source": [
    "#### e.Tính số dư token mới nhất trong địa chỉ ví là địa chỉ ví nhận trong nhiều Transfer event nhất trong tập dữ liệu Transfer event đã crawl (gợi ý: địa chỉ này nằm trong trường `_to` của event)."
   ]
  },
  {
   "cell_type": "code",
   "execution_count": 8,
   "metadata": {
    "vscode": {
     "languageId": "python"
    }
   },
   "outputs": [
    {
     "name": "stdout",
     "output_type": "stream",
     "text": [
      "Most transactions to 0x39dD07ac211c33E796e6D89c4Df9481e0b60EcfE with balance: 4263.982548122644\n"
     ]
    }
   ],
   "source": [
    "to_wallet_transfers = dict()\n",
    "for transfer in transfers:\n",
    "    to_wallet = transfer['args']['to']\n",
    "    if to_wallet not in to_wallet_transfers:\n",
    "        to_wallet_transfers[to_wallet] = 1\n",
    "    else:\n",
    "        to_wallet_transfers[to_wallet] += 1\n",
    "\n",
    "max_to_wallet, max_frequency = max(to_wallet_transfers.items(), key=operator.itemgetter(1))\n",
    "balance = contract.functions.balanceOf(max_to_wallet).call() / 10**decimals\n",
    "\n",
    "print(f\"Most transactions to {max_to_wallet} with balance: {balance}\")\n",
    "\n",
    "result = dict()\n",
    "result['blocksInfo'] = block_info\n",
    "result.update({\n",
    "    'wallet': max_to_wallet,\n",
    "    'max_frequency': max_frequency,\n",
    "    'balance': balance,\n",
    "})\n",
    "json_obj = json.dumps(result, indent=2)\n",
    "with open('./Dap_an/genernal/genernal2e.json', 'w') as f:\n",
    "    f.write(json_obj)"
   ]
  },
  {
   "attachments": {},
   "cell_type": "markdown",
   "metadata": {},
   "source": [
    "#### f.Tìm ký hiệu (symbol) và tên (name) của token."
   ]
  },
  {
   "cell_type": "code",
   "execution_count": 9,
   "metadata": {
    "vscode": {
     "languageId": "python"
    }
   },
   "outputs": [
    {
     "name": "stdout",
     "output_type": "stream",
     "text": [
      "Symbol: DOT; Name: Polkadot Token\n"
     ]
    }
   ],
   "source": [
    "symbol =contract.functions.symbol().call()\n",
    "name =contract.functions.name().call()\n",
    "print(f\"Symbol: {symbol}; Name: {name}\")\n",
    "\n",
    "result = {\n",
    "    'symbol': symbol,\n",
    "    'name': name\n",
    "}\n",
    "\n",
    "json_obj = json.dumps(result, indent=2)\n",
    "with open('./Dap_an/genernal/genernal2f.json', 'w') as f:\n",
    "    f.write(json_obj)"
   ]
  }
 ],
 "metadata": {
  "kernelspec": {
   "display_name": "venv",
   "language": "python",
   "name": "venv"
  },
  "orig_nbformat": 4
 },
 "nbformat": 4,
 "nbformat_minor": 2
}
