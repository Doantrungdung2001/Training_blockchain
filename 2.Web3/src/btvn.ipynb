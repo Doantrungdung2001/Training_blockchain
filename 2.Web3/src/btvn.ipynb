{
 "cells": [
  {
   "attachments": {},
   "cell_type": "markdown",
   "metadata": {},
   "source": [
    "# BÀI TẬP VỀ NHÀ"
   ]
  },
  {
   "cell_type": "code",
   "execution_count": 11,
   "metadata": {},
   "outputs": [
    {
     "name": "stdout",
     "output_type": "stream",
     "text": [
      "Success?: True\n"
     ]
    }
   ],
   "source": [
    "#Genernal\n",
    "\n",
    "from web3 import HTTPProvider\n",
    "from web3 import Web3\n",
    "from web3.middleware import geth_poa_middleware\n",
    "import json\n",
    "import operator\n",
    "\n",
    "# provider_url = \"https://bsc-dataseed4.binance.org/\"\n",
    "provider_url = 'https://data-seed-prebsc-1-s1.binance.org:8545/'\n",
    "web3 = Web3(HTTPProvider(provider_url))\n",
    "web3.middleware_onion.inject(geth_poa_middleware, layer=0)\n",
    "\n",
    "print(f\"Success?: {web3.isConnected()}\")"
   ]
  },
  {
   "cell_type": "code",
   "execution_count": 12,
   "metadata": {},
   "outputs": [],
   "source": [
    "#lấy cấu trúc dữ liệu của abi\n",
    "with open('./NodeToken.json' ,'r') as f:\n",
    "    abi = json.loads(f.read())\n",
    "#Địa chỉ của valas  \n",
    "# token_address = \"0xE4dE8A4b7836B71D19b88b26196237b92E01b49D\"\n",
    "token_address = \"0xC9eB79875f9A0cA52aA14068FA2307D54De76fC0\"\n",
    "# Kiểm tra xem địa chỉ có đúng không\n",
    "if not web3.isAddress(token_address):\n",
    "    address = web3.toChecksumAddress(token_address)\n",
    "#Sử dụng web3 thiết lập đối tượng contract để sử dụng các phương thức\n",
    "contract = web3.eth.contract(abi = abi, address=token_address)"
   ]
  },
  {
   "cell_type": "code",
   "execution_count": 13,
   "metadata": {},
   "outputs": [
    {
     "name": "stdout",
     "output_type": "stream",
     "text": [
      "Start block : 29397268; End block : 29397268\n",
      "AttributeDict({'args': AttributeDict({'from': '0xD97104f49182BaA5bd6E1A461F81Be040ae9DE7A', 'to': '0xD97104f49182BaA5bd6E1A461F81Be040ae9DE7A', 'value': 30000000000000000}), 'event': 'Transfer', 'logIndex': 4, 'transactionIndex': 2, 'transactionHash': HexBytes('0x268c1bb4f523f3b23ab4a073a7dede11ca98dda7132a5fdab25626769725caba'), 'address': '0xC9eB79875f9A0cA52aA14068FA2307D54De76fC0', 'blockHash': HexBytes('0x4ef77e2c9258bd40dbf2bb7fc715ce241f57e6ad95bb1070c260cdd4c8eb9b89'), 'blockNumber': 29397268})\n"
     ]
    }
   ],
   "source": [
    "latest_block = web3.eth.blockNumber\n",
    "start_block = 29397268\n",
    "end_block = 29397268  \n",
    "block_info = {\n",
    "    'startBlock' : start_block,\n",
    "    'endBlock' : end_block\n",
    "}\n",
    "print(f\"Start block : {start_block}; End block : {end_block}\")\n",
    "\n",
    "transfer_events = contract.events.Transfer.createFilter(\n",
    "    fromBlock = start_block , toBlock = end_block).get_all_entries()\n",
    "\n",
    "transfers = list()\n",
    "for event in transfer_events:\n",
    "    print(event)\n",
    "    transfers.append(json.loads(Web3.toJSON(event)))\n",
    "\n",
    "result = dict()\n",
    "result['blocksInfo'] = block_info\n",
    "result['transferEvents'] = transfers\n",
    "json_obj = json.dumps(result , indent = 2)\n",
    "with open('./Result/transfer_event.json', 'w') as f:\n",
    "    f.write(json_obj)"
   ]
  }
 ],
 "metadata": {
  "kernelspec": {
   "display_name": "venv",
   "language": "python",
   "name": "venv"
  },
  "language_info": {
   "codemirror_mode": {
    "name": "ipython",
    "version": 3
   },
   "file_extension": ".py",
   "mimetype": "text/x-python",
   "name": "python",
   "nbconvert_exporter": "python",
   "pygments_lexer": "ipython3",
   "version": "3.10.6"
  },
  "orig_nbformat": 4
 },
 "nbformat": 4,
 "nbformat_minor": 2
}
